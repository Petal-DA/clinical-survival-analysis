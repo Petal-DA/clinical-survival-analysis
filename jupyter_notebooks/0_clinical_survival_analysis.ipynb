{
  "cells": [
    {
      "cell_type": "markdown",
      "metadata": {
        "id": "0aStgWSO0E0E"
      },
      "source": [
        "# **CLINICAL SURVIVAL ANALYSIS**"
      ]
    },
    {
      "cell_type": "markdown",
      "metadata": {},
      "source": [
        "# Clinical Survival Analysis – Overview & Data Inspection"
      ]
    },
    {
      "cell_type": "markdown",
      "metadata": {
        "id": "1eLEkw5O0ECa"
      },
      "source": [
        "## Objectives\n",
        "\n",
        "- Introduce the clinical survival analysis project and dataset from Kaggle (https://www.kaggle.com/datasets/imtkaggleteam/clinical-dataset) \n",
        "- Perform initial loading and inspection of the discovery and validation cohorts  \n",
        "- Identify the structure, column types, and potential data issues\n",
        "### Core Statistical Concepts\n",
        "In this project, a few core statistical ideas guide the analysis and help turn raw data into meaningful insights. Measures like the mean (average) and median (middle value) summarise what is “typical” in the dataset, while the standard deviation tells us how 'spread out' the values are. Hypothesis testing is used to check whether the differences observed between groups are likely to be real or could have happened by chance. In addition, basic probability helps to interpret the results in terms of uncertainty — for example, using confidence intervals to show the range within which the true value is likely to fall. Together, these concepts provide a solid foundation for making sense of the data and supporting well-reasoned conclusions.\n",
        "\n",
        "\n",
        "## Inputs\n",
        "\n",
        "- `data/clinical_data_discovery_cohort.csv`  \n",
        "- `data/clinical_data_validation_cohort.xlsx`\n",
        "\n",
        "## Outputs\n",
        "\n",
        "- Initial observations documented in Markdown  \n",
        "- Dataset structure (rows, columns, types)  \n",
        "- Missing value summary\n",
        "\n",
        "## Additional Comments\n",
        "\n",
        "* The working directory was fixed based on Copilot's suggestions\n",
        "* As one of the files in the dataset is an Excel file, Copilot also assisted in the installation of the openpyxl package to read that file.\n",
        "\n",
        "### Initial Project Wireframe\n",
        "\n",
        "The diagram below outlines a proposed design for the final interactive dashboard to be developed in Tableau.  \n",
        "It highlights the key metrics, charts, and visual components that will likely be included, providing a blueprint for how results from the analysis can be communicated to end-users.  \n",
        "\n",
        "This wireframe serves as a visual reference for the intended layout — from high-level KPIs (e.g., average survival days, mortality rate) to detailed visualisations (e.g., survival time by stage, mutation status vs mortality rate, pack-years vs survival, and age distribution).  \n",
        "The \"Key Takeaways\" section at the bottom will summarise the most important findings for quick interpretation.\n",
        "\n",
        "\n",
        "![Clinical Survival Analysis Wireframe](images/clinical_survival_wireframe.png)\n"
      ]
    },
    {
      "cell_type": "markdown",
      "metadata": {
        "id": "9uWZXH9LwoQg"
      },
      "source": [
        "---"
      ]
    },
    {
      "cell_type": "markdown",
      "metadata": {
        "id": "cqP-UeN-z3i2"
      },
      "source": [
        "# Change working directory"
      ]
    },
    {
      "cell_type": "markdown",
      "metadata": {
        "id": "aOGIGS-uz3i2"
      },
      "source": [
        "We need to change the working directory from its current folder to its parent folder\n",
        "* We access the current directory with os.getcwd()"
      ]
    },
    {
      "cell_type": "code",
      "execution_count": 1,
      "metadata": {
        "id": "wZfF_j-Bz3i4",
        "outputId": "66943449-1436-4c3d-85c7-b85f9f78349b"
      },
      "outputs": [
        {
          "data": {
            "text/plain": [
              "'c:\\\\Users\\\\petal\\\\Downloads\\\\CI-DBC\\\\vscode-projects\\\\clinical-survival-analysis\\\\jupyter_notebooks'"
            ]
          },
          "execution_count": 1,
          "metadata": {},
          "output_type": "execute_result"
        }
      ],
      "source": [
        "import os\n",
        "current_dir = os.getcwd()\n",
        "current_dir"
      ]
    },
    {
      "cell_type": "markdown",
      "metadata": {
        "id": "9MWW8E7lz3i7"
      },
      "source": [
        "We want to make the parent of the current directory the new current directory\n",
        "* os.path.dirname() gets the parent directory\n",
        "* os.chir() defines the new current directory"
      ]
    },
    {
      "cell_type": "code",
      "execution_count": 2,
      "metadata": {
        "id": "TwHsQRWjz3i9",
        "outputId": "86849db3-cd2f-4cc5-ebb8-2d0caafa1a2c"
      },
      "outputs": [
        {
          "name": "stdout",
          "output_type": "stream",
          "text": [
            "You set a new current directory\n"
          ]
        }
      ],
      "source": [
        "os.chdir(os.path.dirname(current_dir))\n",
        "print(\"You set a new current directory\")"
      ]
    },
    {
      "cell_type": "markdown",
      "metadata": {
        "id": "M_xPk_Ijz3i-"
      },
      "source": [
        "Confirm the new current directory"
      ]
    },
    {
      "cell_type": "code",
      "execution_count": 3,
      "metadata": {
        "id": "vz3S-_kjz3jA",
        "outputId": "00b79ae4-75d0-4a96-d193-ac9ef9847ea2"
      },
      "outputs": [
        {
          "data": {
            "text/plain": [
              "'c:\\\\Users\\\\petal\\\\Downloads\\\\CI-DBC\\\\vscode-projects\\\\clinical-survival-analysis'"
            ]
          },
          "execution_count": 3,
          "metadata": {},
          "output_type": "execute_result"
        }
      ],
      "source": [
        "current_dir = os.getcwd()\n",
        "current_dir"
      ]
    },
    {
      "cell_type": "markdown",
      "metadata": {
        "id": "-mavJ8DibrcQ"
      },
      "source": [
        "# Section 1"
      ]
    },
    {
      "cell_type": "markdown",
      "metadata": {},
      "source": [
        "# Import Libraries"
      ]
    },
    {
      "cell_type": "code",
      "execution_count": 4,
      "metadata": {},
      "outputs": [],
      "source": [
        "# Step 0: Import core libraries\n",
        "import pandas as pd\n",
        "\n",
        "# Optional: Display all columns in wide datasets\n",
        "pd.set_option('display.max_columns', None)\n"
      ]
    },
    {
      "cell_type": "markdown",
      "metadata": {},
      "source": [
        "# Load Datasets"
      ]
    },
    {
      "cell_type": "code",
      "execution_count": 9,
      "metadata": {},
      "outputs": [
        {
          "name": "stdout",
          "output_type": "stream",
          "text": [
            "Discovery shape: (30, 10)\n",
            "Validation shape: (95, 14)\n"
          ]
        },
        {
          "data": {
            "text/html": [
              "<div>\n",
              "<style scoped>\n",
              "    .dataframe tbody tr th:only-of-type {\n",
              "        vertical-align: middle;\n",
              "    }\n",
              "\n",
              "    .dataframe tbody tr th {\n",
              "        vertical-align: top;\n",
              "    }\n",
              "\n",
              "    .dataframe thead th {\n",
              "        text-align: right;\n",
              "    }\n",
              "</style>\n",
              "<table border=\"1\" class=\"dataframe\">\n",
              "  <thead>\n",
              "    <tr style=\"text-align: right;\">\n",
              "      <th></th>\n",
              "      <th>PatientID</th>\n",
              "      <th>Specimen date</th>\n",
              "      <th>Dead or Alive</th>\n",
              "      <th>Date of Death</th>\n",
              "      <th>Date of Last Follow Up</th>\n",
              "      <th>sex</th>\n",
              "      <th>race</th>\n",
              "      <th>Stage</th>\n",
              "      <th>Event</th>\n",
              "      <th>Time</th>\n",
              "    </tr>\n",
              "  </thead>\n",
              "  <tbody>\n",
              "    <tr>\n",
              "      <th>0</th>\n",
              "      <td>1</td>\n",
              "      <td>3/17/2003</td>\n",
              "      <td>Dead</td>\n",
              "      <td>2/24/2010</td>\n",
              "      <td>2/24/2010</td>\n",
              "      <td>F</td>\n",
              "      <td>B</td>\n",
              "      <td>pT2N2MX</td>\n",
              "      <td>1</td>\n",
              "      <td>2536</td>\n",
              "    </tr>\n",
              "    <tr>\n",
              "      <th>1</th>\n",
              "      <td>2</td>\n",
              "      <td>6/17/2003</td>\n",
              "      <td>Dead</td>\n",
              "      <td>11/12/2004</td>\n",
              "      <td>11/12/2004</td>\n",
              "      <td>M</td>\n",
              "      <td>W</td>\n",
              "      <td>T2N2MX</td>\n",
              "      <td>1</td>\n",
              "      <td>514</td>\n",
              "    </tr>\n",
              "    <tr>\n",
              "      <th>2</th>\n",
              "      <td>3</td>\n",
              "      <td>9/9/2003</td>\n",
              "      <td>Dead</td>\n",
              "      <td>8/1/2009</td>\n",
              "      <td>8/1/2009</td>\n",
              "      <td>F</td>\n",
              "      <td>B</td>\n",
              "      <td>T2N1MX</td>\n",
              "      <td>1</td>\n",
              "      <td>2153</td>\n",
              "    </tr>\n",
              "    <tr>\n",
              "      <th>3</th>\n",
              "      <td>4</td>\n",
              "      <td>10/14/2003</td>\n",
              "      <td>Dead</td>\n",
              "      <td>12/29/2006</td>\n",
              "      <td>12/29/2006</td>\n",
              "      <td>M</td>\n",
              "      <td>W</td>\n",
              "      <td>pT2NOMX</td>\n",
              "      <td>1</td>\n",
              "      <td>1172</td>\n",
              "    </tr>\n",
              "    <tr>\n",
              "      <th>4</th>\n",
              "      <td>5</td>\n",
              "      <td>12/1/2003</td>\n",
              "      <td>Dead</td>\n",
              "      <td>1/31/2004</td>\n",
              "      <td>1/31/2004</td>\n",
              "      <td>F</td>\n",
              "      <td>W</td>\n",
              "      <td>T2NOMX</td>\n",
              "      <td>1</td>\n",
              "      <td>61</td>\n",
              "    </tr>\n",
              "  </tbody>\n",
              "</table>\n",
              "</div>"
            ],
            "text/plain": [
              "   PatientID Specimen date Dead or Alive Date of Death Date of Last Follow Up  \\\n",
              "0          1     3/17/2003          Dead     2/24/2010              2/24/2010   \n",
              "1          2     6/17/2003          Dead    11/12/2004             11/12/2004   \n",
              "2          3      9/9/2003          Dead      8/1/2009               8/1/2009   \n",
              "3          4    10/14/2003          Dead    12/29/2006             12/29/2006   \n",
              "4          5     12/1/2003          Dead     1/31/2004              1/31/2004   \n",
              "\n",
              "  sex race    Stage  Event  Time  \n",
              "0   F    B  pT2N2MX      1  2536  \n",
              "1   M    W   T2N2MX      1   514  \n",
              "2   F    B   T2N1MX      1  2153  \n",
              "3   M    W  pT2NOMX      1  1172  \n",
              "4   F    W   T2NOMX      1    61  "
            ]
          },
          "metadata": {},
          "output_type": "display_data"
        },
        {
          "data": {
            "text/html": [
              "<div>\n",
              "<style scoped>\n",
              "    .dataframe tbody tr th:only-of-type {\n",
              "        vertical-align: middle;\n",
              "    }\n",
              "\n",
              "    .dataframe tbody tr th {\n",
              "        vertical-align: top;\n",
              "    }\n",
              "\n",
              "    .dataframe thead th {\n",
              "        text-align: right;\n",
              "    }\n",
              "</style>\n",
              "<table border=\"1\" class=\"dataframe\">\n",
              "  <thead>\n",
              "    <tr style=\"text-align: right;\">\n",
              "      <th></th>\n",
              "      <th>Patient ID</th>\n",
              "      <th>Survival time (days)</th>\n",
              "      <th>Event (death: 1, alive: 0)</th>\n",
              "      <th>Tumor size (cm)</th>\n",
              "      <th>Grade</th>\n",
              "      <th>Stage (TNM 8th edition)</th>\n",
              "      <th>Age</th>\n",
              "      <th>Sex</th>\n",
              "      <th>Cigarette</th>\n",
              "      <th>Pack per year</th>\n",
              "      <th>Type.Adjuvant</th>\n",
              "      <th>batch</th>\n",
              "      <th>EGFR</th>\n",
              "      <th>KRAS</th>\n",
              "    </tr>\n",
              "  </thead>\n",
              "  <tbody>\n",
              "    <tr>\n",
              "      <th>0</th>\n",
              "      <td>P109342</td>\n",
              "      <td>2329</td>\n",
              "      <td>1</td>\n",
              "      <td>2.6</td>\n",
              "      <td>3</td>\n",
              "      <td>IB</td>\n",
              "      <td>67</td>\n",
              "      <td>Male</td>\n",
              "      <td>Former</td>\n",
              "      <td>50.0</td>\n",
              "      <td>NaN</td>\n",
              "      <td>1</td>\n",
              "      <td>NaN</td>\n",
              "      <td>NaN</td>\n",
              "    </tr>\n",
              "    <tr>\n",
              "      <th>1</th>\n",
              "      <td>P124450</td>\n",
              "      <td>2532</td>\n",
              "      <td>0</td>\n",
              "      <td>3.5</td>\n",
              "      <td>3</td>\n",
              "      <td>IB</td>\n",
              "      <td>68</td>\n",
              "      <td>Female</td>\n",
              "      <td>Former</td>\n",
              "      <td>52.5</td>\n",
              "      <td>NaN</td>\n",
              "      <td>1</td>\n",
              "      <td>Negative</td>\n",
              "      <td>Negative</td>\n",
              "    </tr>\n",
              "    <tr>\n",
              "      <th>2</th>\n",
              "      <td>P131833</td>\n",
              "      <td>2271</td>\n",
              "      <td>0</td>\n",
              "      <td>2.0</td>\n",
              "      <td>2</td>\n",
              "      <td>IA2</td>\n",
              "      <td>80</td>\n",
              "      <td>Female</td>\n",
              "      <td>Never</td>\n",
              "      <td>0.0</td>\n",
              "      <td>NaN</td>\n",
              "      <td>1</td>\n",
              "      <td>Negative</td>\n",
              "      <td>Negative</td>\n",
              "    </tr>\n",
              "    <tr>\n",
              "      <th>3</th>\n",
              "      <td>P131888</td>\n",
              "      <td>2193</td>\n",
              "      <td>0</td>\n",
              "      <td>3.0</td>\n",
              "      <td>2</td>\n",
              "      <td>IA3</td>\n",
              "      <td>63</td>\n",
              "      <td>Male</td>\n",
              "      <td>Former</td>\n",
              "      <td>47.0</td>\n",
              "      <td>NaN</td>\n",
              "      <td>1</td>\n",
              "      <td>Negative</td>\n",
              "      <td>G12C</td>\n",
              "    </tr>\n",
              "    <tr>\n",
              "      <th>4</th>\n",
              "      <td>P131946</td>\n",
              "      <td>2387</td>\n",
              "      <td>0</td>\n",
              "      <td>4.0</td>\n",
              "      <td>2</td>\n",
              "      <td>IIIA</td>\n",
              "      <td>88</td>\n",
              "      <td>Female</td>\n",
              "      <td>Never</td>\n",
              "      <td>0.0</td>\n",
              "      <td>NaN</td>\n",
              "      <td>1</td>\n",
              "      <td>Negative</td>\n",
              "      <td>Negative</td>\n",
              "    </tr>\n",
              "  </tbody>\n",
              "</table>\n",
              "</div>"
            ],
            "text/plain": [
              "  Patient ID  Survival time (days)  Event (death: 1, alive: 0)  \\\n",
              "0    P109342                  2329                           1   \n",
              "1    P124450                  2532                           0   \n",
              "2    P131833                  2271                           0   \n",
              "3    P131888                  2193                           0   \n",
              "4    P131946                  2387                           0   \n",
              "\n",
              "   Tumor size (cm)  Grade Stage (TNM 8th edition)  Age     Sex Cigarette  \\\n",
              "0              2.6      3                      IB   67    Male    Former   \n",
              "1              3.5      3                      IB   68  Female    Former   \n",
              "2              2.0      2                     IA2   80  Female     Never   \n",
              "3              3.0      2                     IA3   63    Male    Former   \n",
              "4              4.0      2                    IIIA   88  Female     Never   \n",
              "\n",
              "   Pack per year Type.Adjuvant  batch      EGFR      KRAS  \n",
              "0           50.0           NaN      1       NaN       NaN  \n",
              "1           52.5           NaN      1  Negative  Negative  \n",
              "2            0.0           NaN      1  Negative  Negative  \n",
              "3           47.0           NaN      1  Negative      G12C  \n",
              "4            0.0           NaN      1  Negative  Negative  "
            ]
          },
          "metadata": {},
          "output_type": "display_data"
        }
      ],
      "source": [
        "# Step 1: Load discovery cohort (CSV)\n",
        "discovery = pd.read_csv(\"data/clinical_data_discovery_cohort.csv\")\n",
        "\n",
        "# Step 2: Load validation cohort (Excel)\n",
        "validation = pd.read_excel(\"data/clinical_data_validation_cohort.xlsx\")\n",
        "\n",
        "# Step 3: Confirm load\n",
        "print(\"Discovery shape:\", discovery.shape)\n",
        "print(\"Validation shape:\", validation.shape)\n",
        "\n",
        "display(discovery.head())\n",
        "display(validation.head())"
      ]
    },
    {
      "cell_type": "markdown",
      "metadata": {},
      "source": [
        "Both the discovery and validation datasets were successfully loaded. \n",
        "The validation dataset required the openpyxl package for Excel reading. The package was installed based on Copilot's suggestions.\n"
      ]
    },
    {
      "cell_type": "markdown",
      "metadata": {
        "id": "ZY3l0-AxO93d"
      },
      "source": [
        "---"
      ]
    },
    {
      "cell_type": "markdown",
      "metadata": {
        "id": "uFQo3ycuO-v6"
      },
      "source": [
        "# Section 2"
      ]
    },
    {
      "cell_type": "markdown",
      "metadata": {},
      "source": [
        "# Inspect Structure and Missing Data "
      ]
    },
    {
      "cell_type": "code",
      "execution_count": 10,
      "metadata": {},
      "outputs": [
        {
          "name": "stdout",
          "output_type": "stream",
          "text": [
            "\n",
            "--- Discovery Cohort Info ---\n",
            "<class 'pandas.core.frame.DataFrame'>\n",
            "RangeIndex: 30 entries, 0 to 29\n",
            "Data columns (total 10 columns):\n",
            " #   Column                  Non-Null Count  Dtype \n",
            "---  ------                  --------------  ----- \n",
            " 0   PatientID               30 non-null     int64 \n",
            " 1   Specimen date           30 non-null     object\n",
            " 2   Dead or Alive           30 non-null     object\n",
            " 3   Date of Death           30 non-null     object\n",
            " 4   Date of Last Follow Up  30 non-null     object\n",
            " 5   sex                     30 non-null     object\n",
            " 6   race                    30 non-null     object\n",
            " 7   Stage                   30 non-null     object\n",
            " 8   Event                   30 non-null     int64 \n",
            " 9   Time                    30 non-null     int64 \n",
            "dtypes: int64(3), object(7)\n",
            "memory usage: 2.5+ KB\n",
            "None\n",
            "\n",
            "Missing values per column:\n",
            "PatientID                 0\n",
            "Specimen date             0\n",
            "Dead or Alive             0\n",
            "Date of Death             0\n",
            "Date of Last Follow Up    0\n",
            "sex                       0\n",
            "race                      0\n",
            "Stage                     0\n",
            "Event                     0\n",
            "Time                      0\n",
            "dtype: int64\n",
            "\n",
            "--- Validation Cohort Info ---\n",
            "<class 'pandas.core.frame.DataFrame'>\n",
            "RangeIndex: 95 entries, 0 to 94\n",
            "Data columns (total 14 columns):\n",
            " #   Column                      Non-Null Count  Dtype  \n",
            "---  ------                      --------------  -----  \n",
            " 0   Patient ID                  95 non-null     object \n",
            " 1   Survival time (days)        95 non-null     int64  \n",
            " 2   Event (death: 1, alive: 0)  95 non-null     int64  \n",
            " 3   Tumor size (cm)             95 non-null     float64\n",
            " 4   Grade                       95 non-null     int64  \n",
            " 5   Stage (TNM 8th edition)     95 non-null     object \n",
            " 6   Age                         95 non-null     int64  \n",
            " 7   Sex                         95 non-null     object \n",
            " 8   Cigarette                   95 non-null     object \n",
            " 9   Pack per year               95 non-null     float64\n",
            " 10  Type.Adjuvant               22 non-null     object \n",
            " 11  batch                       95 non-null     int64  \n",
            " 12  EGFR                        86 non-null     object \n",
            " 13  KRAS                        65 non-null     object \n",
            "dtypes: float64(2), int64(5), object(7)\n",
            "memory usage: 10.5+ KB\n",
            "None\n",
            "\n",
            "Missing values per column:\n",
            "Patient ID                     0\n",
            "Survival time (days)           0\n",
            "Event (death: 1, alive: 0)     0\n",
            "Tumor size (cm)                0\n",
            "Grade                          0\n",
            "Stage (TNM 8th edition)        0\n",
            "Age                            0\n",
            "Sex                            0\n",
            "Cigarette                      0\n",
            "Pack per year                  0\n",
            "Type.Adjuvant                 73\n",
            "batch                          0\n",
            "EGFR                           9\n",
            "KRAS                          30\n",
            "dtype: int64\n"
          ]
        }
      ],
      "source": [
        "# Step 4: Inspect data structure\n",
        "print(\"\\n--- Discovery Cohort Info ---\")\n",
        "print(discovery.info())\n",
        "print(\"\\nMissing values per column:\")\n",
        "print(discovery.isnull().sum())\n",
        "\n",
        "print(\"\\n--- Validation Cohort Info ---\")\n",
        "print(validation.info())\n",
        "print(\"\\nMissing values per column:\")\n",
        "print(validation.isnull().sum())\n"
      ]
    },
    {
      "cell_type": "markdown",
      "metadata": {},
      "source": [
        "### Initial Observations\n",
        "- Discovery cohort: 30 rows × 10 columns, no missing values\n",
        "- Validation cohort: 95 rows × 14 columns, with missing values in:\n",
        "    - Type.Adjuvant: 73 missing (at first glance, seems to be highly sparse)\n",
        "    - EGFR: 9 missing\n",
        "    - KRAS: 30 missing\n",
        "- Dates are currently object dtype. This will be converted to datetime in cleaning steps\n"
      ]
    },
    {
      "cell_type": "markdown",
      "metadata": {},
      "source": [
        "> **Note:**  \n",
        "> A large number of patients have no adjuvant therapy recorded.  \n",
        "> In oncology, absence of adjuvant therapy may be intentional and clinically valid.\n",
        "> Therefore, this is not necessarily missing data.  \n",
        "> For this analysis, these entries will be coded as `\"No_Adjuvant_Therapy\"` to distinguish them from other therapy types.\n"
      ]
    },
    {
      "cell_type": "markdown",
      "metadata": {},
      "source": [
        "---"
      ]
    },
    {
      "cell_type": "markdown",
      "metadata": {
        "id": "ltNetd085qHf"
      },
      "source": [
        "# Next Steps"
      ]
    },
    {
      "cell_type": "markdown",
      "metadata": {},
      "source": [
        "* Move to Notebook 1 for cleaning, encoding, and missing value handling"
      ]
    }
  ],
  "metadata": {
    "accelerator": "GPU",
    "colab": {
      "name": "Data Practitioner Jupyter Notebook.ipynb",
      "provenance": [],
      "toc_visible": true
    },
    "kernelspec": {
      "display_name": ".venv (3.12.8)",
      "language": "python",
      "name": "python3"
    },
    "language_info": {
      "codemirror_mode": {
        "name": "ipython",
        "version": 3
      },
      "file_extension": ".py",
      "mimetype": "text/x-python",
      "name": "python",
      "nbconvert_exporter": "python",
      "pygments_lexer": "ipython3",
      "version": "3.12.8"
    },
    "orig_nbformat": 2
  },
  "nbformat": 4,
  "nbformat_minor": 2
}
