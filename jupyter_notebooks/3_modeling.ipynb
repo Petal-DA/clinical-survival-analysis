{
  "cells": [
    {
      "cell_type": "markdown",
      "metadata": {
        "id": "0aStgWSO0E0E"
      },
      "source": [
        "# **MODELLING and SURVIVAL ANALYSIS**\n",
        "\n",
        "This notebook explores the relationship between clinical and genetic features (particularly KRAS mutation status) and mortality risk using logistic regression and Kaplan-Meier survival analysis. A reduced logistic model and survival curves provide interpretable estimates, despite limitations due to sample size and stage distribution."
      ]
    },
    {
      "cell_type": "markdown",
      "metadata": {
        "id": "1eLEkw5O0ECa"
      },
      "source": [
        "## Objectives\n",
        "\n",
        "* Develop simple predictive models for clinical outcomes using logistic regression.\n",
        "* Test hypotheses from earlier phases of the project (e.g., KRAS mutation and mortality risk).\n",
        "* Evaluate model performance and interpret key features.\n",
        "\n",
        "## Inputs\n",
        "\n",
        "* discovery_clean.csv\n",
        "* validation_clean.csv\n",
        "\n",
        "## Outputs\n",
        "\n",
        "* Trained logistic regression models for mortality classification.\n",
        "* Model evaluation was focused on coefficients, p-values, and odds ratios with 95% confidence intervals.\n",
        "* Visual interpretation of model results via odds ratio plots.\n",
        "\n",
        "## Additional Comments\n",
        "\n",
        "* Modeling focused on classification (mortality); regression modelling of survival time was considered but not implemented.\n",
        "* Dataset size constraints informed the choice of simpler, interpretable models.\n",
        "* Only interpretable models (logistic regression) were used in the final analysis."
      ]
    },
    {
      "cell_type": "markdown",
      "metadata": {
        "id": "9uWZXH9LwoQg"
      },
      "source": [
        "---"
      ]
    },
    {
      "cell_type": "markdown",
      "metadata": {
        "id": "cqP-UeN-z3i2"
      },
      "source": [
        "# Change working directory"
      ]
    },
    {
      "cell_type": "markdown",
      "metadata": {
        "id": "aOGIGS-uz3i2"
      },
      "source": [
        "We need to change the working directory from its current folder to its parent folder\n",
        "* We access the current directory with os.getcwd()"
      ]
    },
    {
      "cell_type": "code",
      "execution_count": 1,
      "metadata": {
        "id": "wZfF_j-Bz3i4",
        "outputId": "66943449-1436-4c3d-85c7-b85f9f78349b"
      },
      "outputs": [
        {
          "data": {
            "text/plain": [
              "'c:\\\\Users\\\\petal\\\\Downloads\\\\CI-DBC\\\\vscode-projects\\\\clinical-survival-analysis\\\\jupyter_notebooks'"
            ]
          },
          "execution_count": 1,
          "metadata": {},
          "output_type": "execute_result"
        }
      ],
      "source": [
        "import os\n",
        "current_dir = os.getcwd()\n",
        "current_dir"
      ]
    },
    {
      "cell_type": "markdown",
      "metadata": {
        "id": "9MWW8E7lz3i7"
      },
      "source": [
        "We want to make the parent of the current directory the new current directory\n",
        "* os.path.dirname() gets the parent directory\n",
        "* os.chir() defines the new current directory"
      ]
    },
    {
      "cell_type": "code",
      "execution_count": 2,
      "metadata": {
        "id": "TwHsQRWjz3i9",
        "outputId": "86849db3-cd2f-4cc5-ebb8-2d0caafa1a2c"
      },
      "outputs": [
        {
          "name": "stdout",
          "output_type": "stream",
          "text": [
            "You set a new current directory\n"
          ]
        }
      ],
      "source": [
        "os.chdir(os.path.dirname(current_dir))\n",
        "print(\"You set a new current directory\")"
      ]
    },
    {
      "cell_type": "markdown",
      "metadata": {
        "id": "M_xPk_Ijz3i-"
      },
      "source": [
        "Confirm the new current directory"
      ]
    },
    {
      "cell_type": "code",
      "execution_count": 3,
      "metadata": {
        "id": "vz3S-_kjz3jA",
        "outputId": "00b79ae4-75d0-4a96-d193-ac9ef9847ea2"
      },
      "outputs": [
        {
          "data": {
            "text/plain": [
              "'c:\\\\Users\\\\petal\\\\Downloads\\\\CI-DBC\\\\vscode-projects\\\\clinical-survival-analysis'"
            ]
          },
          "execution_count": 3,
          "metadata": {},
          "output_type": "execute_result"
        }
      ],
      "source": [
        "current_dir = os.getcwd()\n",
        "current_dir"
      ]
    },
    {
      "cell_type": "markdown",
      "metadata": {
        "id": "-mavJ8DibrcQ"
      },
      "source": [
        "# Section 1: Data Loading and Initial Setup"
      ]
    },
    {
      "cell_type": "markdown",
      "metadata": {},
      "source": [
        "# Import Libraries and Load Cleaned Data"
      ]
    },
    {
      "cell_type": "code",
      "execution_count": 4,
      "metadata": {},
      "outputs": [
        {
          "name": "stdout",
          "output_type": "stream",
          "text": [
            "Discovery cohort shape: (30, 26)\n",
            "Validation cohort shape: (95, 26)\n"
          ]
        },
        {
          "data": {
            "text/html": [
              "<div>\n",
              "<style scoped>\n",
              "    .dataframe tbody tr th:only-of-type {\n",
              "        vertical-align: middle;\n",
              "    }\n",
              "\n",
              "    .dataframe tbody tr th {\n",
              "        vertical-align: top;\n",
              "    }\n",
              "\n",
              "    .dataframe thead th {\n",
              "        text-align: right;\n",
              "    }\n",
              "</style>\n",
              "<table border=\"1\" class=\"dataframe\">\n",
              "  <thead>\n",
              "    <tr style=\"text-align: right;\">\n",
              "      <th></th>\n",
              "      <th>PatientID</th>\n",
              "      <th>Specimen date</th>\n",
              "      <th>Dead or Alive</th>\n",
              "      <th>Date of Death</th>\n",
              "      <th>Date of Last Follow Up</th>\n",
              "      <th>Event</th>\n",
              "      <th>Time</th>\n",
              "      <th>sex_M</th>\n",
              "      <th>race_B</th>\n",
              "      <th>race_O</th>\n",
              "      <th>...</th>\n",
              "      <th>Stage_T1N0</th>\n",
              "      <th>Stage_T1NOMX</th>\n",
              "      <th>Stage_T2N0</th>\n",
              "      <th>Stage_T2N1MX</th>\n",
              "      <th>Stage_T2N2MX</th>\n",
              "      <th>Stage_T2NOMX</th>\n",
              "      <th>Stage_pT1pN0</th>\n",
              "      <th>Stage_pT2N2MX</th>\n",
              "      <th>Stage_pT2NOMX</th>\n",
              "      <th>Stage_pT2pN0</th>\n",
              "    </tr>\n",
              "  </thead>\n",
              "  <tbody>\n",
              "    <tr>\n",
              "      <th>0</th>\n",
              "      <td>1</td>\n",
              "      <td>2003-03-17</td>\n",
              "      <td>Dead</td>\n",
              "      <td>2010-02-24</td>\n",
              "      <td>2010-02-24</td>\n",
              "      <td>1</td>\n",
              "      <td>2536</td>\n",
              "      <td>False</td>\n",
              "      <td>True</td>\n",
              "      <td>False</td>\n",
              "      <td>...</td>\n",
              "      <td>False</td>\n",
              "      <td>False</td>\n",
              "      <td>False</td>\n",
              "      <td>False</td>\n",
              "      <td>False</td>\n",
              "      <td>False</td>\n",
              "      <td>False</td>\n",
              "      <td>True</td>\n",
              "      <td>False</td>\n",
              "      <td>False</td>\n",
              "    </tr>\n",
              "    <tr>\n",
              "      <th>1</th>\n",
              "      <td>2</td>\n",
              "      <td>2003-06-17</td>\n",
              "      <td>Dead</td>\n",
              "      <td>2004-11-12</td>\n",
              "      <td>2004-11-12</td>\n",
              "      <td>1</td>\n",
              "      <td>514</td>\n",
              "      <td>True</td>\n",
              "      <td>False</td>\n",
              "      <td>False</td>\n",
              "      <td>...</td>\n",
              "      <td>False</td>\n",
              "      <td>False</td>\n",
              "      <td>False</td>\n",
              "      <td>False</td>\n",
              "      <td>True</td>\n",
              "      <td>False</td>\n",
              "      <td>False</td>\n",
              "      <td>False</td>\n",
              "      <td>False</td>\n",
              "      <td>False</td>\n",
              "    </tr>\n",
              "    <tr>\n",
              "      <th>2</th>\n",
              "      <td>3</td>\n",
              "      <td>2003-09-09</td>\n",
              "      <td>Dead</td>\n",
              "      <td>2009-08-01</td>\n",
              "      <td>2009-08-01</td>\n",
              "      <td>1</td>\n",
              "      <td>2153</td>\n",
              "      <td>False</td>\n",
              "      <td>True</td>\n",
              "      <td>False</td>\n",
              "      <td>...</td>\n",
              "      <td>False</td>\n",
              "      <td>False</td>\n",
              "      <td>False</td>\n",
              "      <td>True</td>\n",
              "      <td>False</td>\n",
              "      <td>False</td>\n",
              "      <td>False</td>\n",
              "      <td>False</td>\n",
              "      <td>False</td>\n",
              "      <td>False</td>\n",
              "    </tr>\n",
              "    <tr>\n",
              "      <th>3</th>\n",
              "      <td>4</td>\n",
              "      <td>2003-10-14</td>\n",
              "      <td>Dead</td>\n",
              "      <td>2006-12-29</td>\n",
              "      <td>2006-12-29</td>\n",
              "      <td>1</td>\n",
              "      <td>1172</td>\n",
              "      <td>True</td>\n",
              "      <td>False</td>\n",
              "      <td>False</td>\n",
              "      <td>...</td>\n",
              "      <td>False</td>\n",
              "      <td>False</td>\n",
              "      <td>False</td>\n",
              "      <td>False</td>\n",
              "      <td>False</td>\n",
              "      <td>False</td>\n",
              "      <td>False</td>\n",
              "      <td>False</td>\n",
              "      <td>True</td>\n",
              "      <td>False</td>\n",
              "    </tr>\n",
              "    <tr>\n",
              "      <th>4</th>\n",
              "      <td>5</td>\n",
              "      <td>2003-12-01</td>\n",
              "      <td>Dead</td>\n",
              "      <td>2004-01-31</td>\n",
              "      <td>2004-01-31</td>\n",
              "      <td>1</td>\n",
              "      <td>61</td>\n",
              "      <td>False</td>\n",
              "      <td>False</td>\n",
              "      <td>False</td>\n",
              "      <td>...</td>\n",
              "      <td>False</td>\n",
              "      <td>False</td>\n",
              "      <td>False</td>\n",
              "      <td>False</td>\n",
              "      <td>False</td>\n",
              "      <td>True</td>\n",
              "      <td>False</td>\n",
              "      <td>False</td>\n",
              "      <td>False</td>\n",
              "      <td>False</td>\n",
              "    </tr>\n",
              "  </tbody>\n",
              "</table>\n",
              "<p>5 rows × 26 columns</p>\n",
              "</div>"
            ],
            "text/plain": [
              "   PatientID Specimen date Dead or Alive Date of Death Date of Last Follow Up  \\\n",
              "0          1    2003-03-17          Dead    2010-02-24             2010-02-24   \n",
              "1          2    2003-06-17          Dead    2004-11-12             2004-11-12   \n",
              "2          3    2003-09-09          Dead    2009-08-01             2009-08-01   \n",
              "3          4    2003-10-14          Dead    2006-12-29             2006-12-29   \n",
              "4          5    2003-12-01          Dead    2004-01-31             2004-01-31   \n",
              "\n",
              "   Event  Time  sex_M  race_B  race_O  ...  Stage_T1N0  Stage_T1NOMX  \\\n",
              "0      1  2536  False    True   False  ...       False         False   \n",
              "1      1   514   True   False   False  ...       False         False   \n",
              "2      1  2153  False    True   False  ...       False         False   \n",
              "3      1  1172   True   False   False  ...       False         False   \n",
              "4      1    61  False   False   False  ...       False         False   \n",
              "\n",
              "   Stage_T2N0  Stage_T2N1MX  Stage_T2N2MX  Stage_T2NOMX  Stage_pT1pN0  \\\n",
              "0       False         False         False         False         False   \n",
              "1       False         False          True         False         False   \n",
              "2       False          True         False         False         False   \n",
              "3       False         False         False         False         False   \n",
              "4       False         False         False          True         False   \n",
              "\n",
              "   Stage_pT2N2MX  Stage_pT2NOMX  Stage_pT2pN0  \n",
              "0           True          False         False  \n",
              "1          False          False         False  \n",
              "2          False          False         False  \n",
              "3          False           True         False  \n",
              "4          False          False         False  \n",
              "\n",
              "[5 rows x 26 columns]"
            ]
          },
          "metadata": {},
          "output_type": "display_data"
        },
        {
          "data": {
            "text/html": [
              "<div>\n",
              "<style scoped>\n",
              "    .dataframe tbody tr th:only-of-type {\n",
              "        vertical-align: middle;\n",
              "    }\n",
              "\n",
              "    .dataframe tbody tr th {\n",
              "        vertical-align: top;\n",
              "    }\n",
              "\n",
              "    .dataframe thead th {\n",
              "        text-align: right;\n",
              "    }\n",
              "</style>\n",
              "<table border=\"1\" class=\"dataframe\">\n",
              "  <thead>\n",
              "    <tr style=\"text-align: right;\">\n",
              "      <th></th>\n",
              "      <th>Patient ID</th>\n",
              "      <th>Survival time (days)</th>\n",
              "      <th>Event (death: 1, alive: 0)</th>\n",
              "      <th>Tumor size (cm)</th>\n",
              "      <th>Grade</th>\n",
              "      <th>Age</th>\n",
              "      <th>Pack per year</th>\n",
              "      <th>batch</th>\n",
              "      <th>EGFR</th>\n",
              "      <th>KRAS</th>\n",
              "      <th>...</th>\n",
              "      <th>Stage (TNM 8th edition)_IVA</th>\n",
              "      <th>Stage (TNM 8th edition)_Recurrence</th>\n",
              "      <th>Sex_Male</th>\n",
              "      <th>Type.Adjuvant_Chemorad</th>\n",
              "      <th>Type.Adjuvant_No_Adjuvant_Therapy</th>\n",
              "      <th>Type.Adjuvant_XRT</th>\n",
              "      <th>EGFR_status_Wild-type</th>\n",
              "      <th>KRAS_status_Wild-type</th>\n",
              "      <th>Cigarette_Former</th>\n",
              "      <th>Cigarette_Never</th>\n",
              "    </tr>\n",
              "  </thead>\n",
              "  <tbody>\n",
              "    <tr>\n",
              "      <th>0</th>\n",
              "      <td>P109342</td>\n",
              "      <td>2329</td>\n",
              "      <td>1</td>\n",
              "      <td>2.6</td>\n",
              "      <td>3</td>\n",
              "      <td>67</td>\n",
              "      <td>50.0</td>\n",
              "      <td>1</td>\n",
              "      <td>Unknown</td>\n",
              "      <td>Unknown</td>\n",
              "      <td>...</td>\n",
              "      <td>False</td>\n",
              "      <td>False</td>\n",
              "      <td>True</td>\n",
              "      <td>False</td>\n",
              "      <td>True</td>\n",
              "      <td>False</td>\n",
              "      <td>False</td>\n",
              "      <td>False</td>\n",
              "      <td>True</td>\n",
              "      <td>False</td>\n",
              "    </tr>\n",
              "    <tr>\n",
              "      <th>1</th>\n",
              "      <td>P124450</td>\n",
              "      <td>2532</td>\n",
              "      <td>0</td>\n",
              "      <td>3.5</td>\n",
              "      <td>3</td>\n",
              "      <td>68</td>\n",
              "      <td>52.5</td>\n",
              "      <td>1</td>\n",
              "      <td>Negative</td>\n",
              "      <td>Negative</td>\n",
              "      <td>...</td>\n",
              "      <td>False</td>\n",
              "      <td>False</td>\n",
              "      <td>False</td>\n",
              "      <td>False</td>\n",
              "      <td>True</td>\n",
              "      <td>False</td>\n",
              "      <td>True</td>\n",
              "      <td>True</td>\n",
              "      <td>True</td>\n",
              "      <td>False</td>\n",
              "    </tr>\n",
              "    <tr>\n",
              "      <th>2</th>\n",
              "      <td>P131833</td>\n",
              "      <td>2271</td>\n",
              "      <td>0</td>\n",
              "      <td>2.0</td>\n",
              "      <td>2</td>\n",
              "      <td>80</td>\n",
              "      <td>0.0</td>\n",
              "      <td>1</td>\n",
              "      <td>Negative</td>\n",
              "      <td>Negative</td>\n",
              "      <td>...</td>\n",
              "      <td>False</td>\n",
              "      <td>False</td>\n",
              "      <td>False</td>\n",
              "      <td>False</td>\n",
              "      <td>True</td>\n",
              "      <td>False</td>\n",
              "      <td>True</td>\n",
              "      <td>True</td>\n",
              "      <td>False</td>\n",
              "      <td>True</td>\n",
              "    </tr>\n",
              "    <tr>\n",
              "      <th>3</th>\n",
              "      <td>P131888</td>\n",
              "      <td>2193</td>\n",
              "      <td>0</td>\n",
              "      <td>3.0</td>\n",
              "      <td>2</td>\n",
              "      <td>63</td>\n",
              "      <td>47.0</td>\n",
              "      <td>1</td>\n",
              "      <td>Negative</td>\n",
              "      <td>G12C</td>\n",
              "      <td>...</td>\n",
              "      <td>False</td>\n",
              "      <td>False</td>\n",
              "      <td>True</td>\n",
              "      <td>False</td>\n",
              "      <td>True</td>\n",
              "      <td>False</td>\n",
              "      <td>True</td>\n",
              "      <td>False</td>\n",
              "      <td>True</td>\n",
              "      <td>False</td>\n",
              "    </tr>\n",
              "    <tr>\n",
              "      <th>4</th>\n",
              "      <td>P131946</td>\n",
              "      <td>2387</td>\n",
              "      <td>0</td>\n",
              "      <td>4.0</td>\n",
              "      <td>2</td>\n",
              "      <td>88</td>\n",
              "      <td>0.0</td>\n",
              "      <td>1</td>\n",
              "      <td>Negative</td>\n",
              "      <td>Negative</td>\n",
              "      <td>...</td>\n",
              "      <td>False</td>\n",
              "      <td>False</td>\n",
              "      <td>False</td>\n",
              "      <td>False</td>\n",
              "      <td>True</td>\n",
              "      <td>False</td>\n",
              "      <td>True</td>\n",
              "      <td>True</td>\n",
              "      <td>False</td>\n",
              "      <td>True</td>\n",
              "    </tr>\n",
              "  </tbody>\n",
              "</table>\n",
              "<p>5 rows × 26 columns</p>\n",
              "</div>"
            ],
            "text/plain": [
              "  Patient ID  Survival time (days)  Event (death: 1, alive: 0)  \\\n",
              "0    P109342                  2329                           1   \n",
              "1    P124450                  2532                           0   \n",
              "2    P131833                  2271                           0   \n",
              "3    P131888                  2193                           0   \n",
              "4    P131946                  2387                           0   \n",
              "\n",
              "   Tumor size (cm)  Grade  Age  Pack per year  batch      EGFR      KRAS  ...  \\\n",
              "0              2.6      3   67           50.0      1   Unknown   Unknown  ...   \n",
              "1              3.5      3   68           52.5      1  Negative  Negative  ...   \n",
              "2              2.0      2   80            0.0      1  Negative  Negative  ...   \n",
              "3              3.0      2   63           47.0      1  Negative      G12C  ...   \n",
              "4              4.0      2   88            0.0      1  Negative  Negative  ...   \n",
              "\n",
              "   Stage (TNM 8th edition)_IVA  Stage (TNM 8th edition)_Recurrence  Sex_Male  \\\n",
              "0                        False                               False      True   \n",
              "1                        False                               False     False   \n",
              "2                        False                               False     False   \n",
              "3                        False                               False      True   \n",
              "4                        False                               False     False   \n",
              "\n",
              "   Type.Adjuvant_Chemorad  Type.Adjuvant_No_Adjuvant_Therapy  \\\n",
              "0                   False                               True   \n",
              "1                   False                               True   \n",
              "2                   False                               True   \n",
              "3                   False                               True   \n",
              "4                   False                               True   \n",
              "\n",
              "   Type.Adjuvant_XRT  EGFR_status_Wild-type  KRAS_status_Wild-type  \\\n",
              "0              False                  False                  False   \n",
              "1              False                   True                   True   \n",
              "2              False                   True                   True   \n",
              "3              False                   True                  False   \n",
              "4              False                   True                   True   \n",
              "\n",
              "   Cigarette_Former  Cigarette_Never  \n",
              "0              True            False  \n",
              "1              True            False  \n",
              "2             False             True  \n",
              "3              True            False  \n",
              "4             False             True  \n",
              "\n",
              "[5 rows x 26 columns]"
            ]
          },
          "metadata": {},
          "output_type": "display_data"
        }
      ],
      "source": [
        "# 1. Load libraries\n",
        "import pandas as pd\n",
        "import numpy as np\n",
        "from sklearn.model_selection import train_test_split\n",
        "from sklearn.linear_model import LogisticRegression\n",
        "from sklearn.linear_model import LinearRegression\n",
        "from sklearn.metrics import accuracy_score, confusion_matrix, roc_auc_score, roc_curve\n",
        "import matplotlib.pyplot as plt\n",
        "import seaborn as sns\n",
        "import plotly.express as px\n",
        "\n",
        "# 2. Load cleaned datasets\n",
        "discovery = pd.read_csv(\"data/cleaned/discovery_clean.csv\")\n",
        "validation = pd.read_csv(\"data/cleaned/validation_clean.csv\")\n",
        "\n",
        "# 3. Preview\n",
        "print(\"Discovery cohort shape:\", discovery.shape)\n",
        "print(\"Validation cohort shape:\", validation.shape)\n",
        "display(discovery.head())\n",
        "display(validation.head())\n"
      ]
    },
    {
      "cell_type": "markdown",
      "metadata": {},
      "source": [
        "### Data Checks\n",
        "\n",
        "🔹 **Discovery Cohort**\n",
        "* Columns include: `Event`, `Time`, `sex_M`, `race_B`, `Stage_T1N0`, etc.\n",
        "* Variables are already binary-encoded (e.g., `sex_M`, `race_B`, `Stage_...`), making them directly suitable for regression or classification.\n",
        "\n",
        "🔹 **Validation Cohort**\n",
        "* Cleaned and labelled with descriptive variable names (e.g., `Survival time (days)`, `Event`, `KRAS`, `EGFR`, `Grade`, `Age`, etc.).\n",
        "* Categorical variables like `KRAS` are in readable form (Negative, G12C, Unknown, etc.).\n",
        "\n",
        "**Note:** Some engineered features already exist (e.g., `Sex_Male`, `Stage (TNM 8th edition)_IVA`), which can be used directly in modelling.\n",
        "\n",
        "Although race was present in the discovery cohort, it was excluded from the final analyses and modelling for the following reasons:\n",
        "1. Incomplete Data Across Cohorts - The race variable was not available or coded in the validation cohort, preventing direct comparison or integration across datasets.\n",
        "2. Low Representation in Some Categories - Certain racial groups were sparsely represented, which can lead to unstable statistical estimates, inflated variance, and misleading associations.\n",
        "3. Risk of Misinterpretation – Including race without additional socioeconomic, geographic, and environmental context could lead to spurious conclusions or reinforce stereotypes.\n",
        "4. Focus on Clinical and Genomic Predictors – The primary analytical goal was to investigate associations between tumour stage, genomic mutations (KRAS, EGFR), and survival outcomes.\n",
        "\n",
        "This choice aligns with best practices for avoiding biased or non-generalizable models when demographic data is incomplete or not central to the research objectives."
      ]
    },
    {
      "cell_type": "markdown",
      "metadata": {
        "id": "ZY3l0-AxO93d"
      },
      "source": [
        "---"
      ]
    },
    {
      "cell_type": "markdown",
      "metadata": {
        "id": "uFQo3ycuO-v6"
      },
      "source": [
        "# Section 2: Exploratory Data Analysis"
      ]
    },
    {
      "cell_type": "markdown",
      "metadata": {},
      "source": [
        "## Correlation Analysis of Continuous Variables"
      ]
    },
    {
      "cell_type": "markdown",
      "metadata": {},
      "source": [
        "A correlation heatmap created using the validation conhort, focusing on continuous variables such as:\n",
        "* Survival time (days)\n",
        "* Tumor size (cm)\n",
        "* Age\n",
        "* Pack per year\n",
        "\n",
        "Categorical and one-hot-encoded features were excluded at this point to keep the matrix readable and meaningful."
      ]
    },
    {
      "cell_type": "code",
      "execution_count": 5,
      "metadata": {},
      "outputs": [
        {
          "data": {
            "image/png": "[encoded data removed]",
            "text/plain": [
              "<Figure size 800x600 with 2 Axes>"
            ]
          },
          "metadata": {},
          "output_type": "display_data"
        }
      ],
      "source": [
        "import numpy as np\n",
        "import seaborn as sns\n",
        "import matplotlib.pyplot as plt\n",
        "\n",
        "# Select numeric columns\n",
        "numeric_cols = ['Survival time (days)', 'Tumor size (cm)', 'Age', 'Pack per year']\n",
        "corr = validation[numeric_cols].corr()\n",
        "\n",
        "# Create mask for upper triangle *excluding* the diagonal\n",
        "mask = np.triu(np.ones_like(corr, dtype=bool), k=1)\n",
        "\n",
        "# Plot heatmap\n",
        "plt.figure(figsize=(8, 6))\n",
        "sns.heatmap(corr, mask=mask, annot=True, cmap='coolwarm', fmt=\".2f\", square=True, linewidths=0.5)\n",
        "plt.title('Correlation Matrix (Validation Cohort)')\n",
        "plt.show()\n",
        "\n"
      ]
    },
    {
      "cell_type": "markdown",
      "metadata": {},
      "source": [
        "### Correlation Analysis Results\n",
        "\n",
        "The correlation heatmap reveals weak linear relationships between key continuous variables in the validation cohort. All correlations have absolute values < 0.20, indicating:\n",
        "\n",
        "- **Low multicollinearity**: Minimal concern for redundant predictors in subsequent modeling\n",
        "- **Independent predictors**: Each variable contributes unique information\n",
        "- **Tumor size vs. survival time**: Weak negative correlation (r ≈ -0.15) suggests larger tumors may be associated with shorter survival, though the effect is minimal\n",
        "\n",
        "These weak correlations are favorable for subsequent predictive modeling, as they suggest that including multiple variables will not suffer from multicollinearity issues among the continuous predictors."
      ]
    },
    {
      "cell_type": "markdown",
      "metadata": {},
      "source": [
        "---"
      ]
    },
    {
      "cell_type": "markdown",
      "metadata": {},
      "source": [
        "# Section 3: Hypothesis Testing"
      ]
    },
    {
      "cell_type": "markdown",
      "metadata": {},
      "source": [
        "## ANOVA: Survival Time by Cancer Stage"
      ]
    },
    {
      "cell_type": "markdown",
      "metadata": {},
      "source": [
        "To assess whether survival times significantly differ between tumour stage groups, a one-way ANOVA test was performed. This test compares the means of survival time across the simplified stage categories (Early vs Late) to determine if the observed differences are statistically significant."
      ]
    },
    {
      "cell_type": "code",
      "execution_count": 6,
      "metadata": {},
      "outputs": [
        {
          "name": "stdout",
          "output_type": "stream",
          "text": [
            "Stage_Group\n",
            "Early       78\n",
            "Advanced    17\n",
            "Name: count, dtype: int64\n",
            "Levene's test p-value: 0.6396\n",
            "ANOVA test p-value: 0.0167\n"
          ]
        }
      ],
      "source": [
        "import scipy.stats as stats\n",
        "\n",
        "# First, create a simplified stage grouping for ANOVA\n",
        "validation['Stage_Group'] = validation[['Stage (TNM 8th edition)_IIIA',\n",
        "                                        'Stage (TNM 8th edition)_IIIB',\n",
        "                                        'Stage (TNM 8th edition)_IVA']].sum(axis=1)\n",
        "\n",
        "# Label: 1 if any of the advanced stages is present, else 0 (early stage)\n",
        "validation['Stage_Group'] = validation['Stage_Group'].apply(lambda x: 'Advanced' if x == 1 else 'Early')\n",
        "\n",
        "# Check group sizes\n",
        "print(validation['Stage_Group'].value_counts())\n",
        "\n",
        "# Run ANOVA\n",
        "early_survival = validation[validation['Stage_Group'] == 'Early']['Survival time (days)']\n",
        "advanced_survival = validation[validation['Stage_Group'] == 'Advanced']['Survival time (days)']\n",
        "\n",
        "# Check assumptions: Levene's Test for equal variances\n",
        "levene_stat, levene_p = stats.levene(early_survival, advanced_survival)\n",
        "\n",
        "# ANOVA test\n",
        "anova_stat, anova_p = stats.f_oneway(early_survival, advanced_survival)\n",
        "\n",
        "# Print results\n",
        "print(f\"Levene's test p-value: {levene_p:.4f}\")\n",
        "print(f\"ANOVA test p-value: {anova_p:.4f}\")\n"
      ]
    },
    {
      "cell_type": "markdown",
      "metadata": {},
      "source": [
        "### Hypothesis Testing: Survival Time by Stage\n",
        "\n",
        "**Objective:**  \n",
        "To test whether patients in more advanced stages (IIIA, IIIB, IVA) have significantly shorter survival times than those in earlier stages.\n",
        "\n",
        "**Method:**  \n",
        "An ANOVA test was used to compare mean survival time between two simplified stage groups: \"Early\" and \"Advanced\".\n",
        "\n",
        "**Assumptions Checked:**\n",
        "- Levene’s test was used to verify homogeneity of variances between groups.\n",
        "\n",
        "**Interpretation:**  \n",
        "- A significant ANOVA p-value (< 0.05) would indicate that the survival time differs significantly by stage group.\n"
      ]
    },
    {
      "cell_type": "markdown",
      "metadata": {},
      "source": [
        "### Interpretation of ANOVA Results\n",
        "\n",
        "The ANOVA analysis tested whether survival times differ between patients in early-stage versus advanced-stage cancer.\n",
        "\n",
        "- **Group Sizes:**\n",
        "  - Early Stage: 78 patients\n",
        "  - Advanced Stage: 17 patients\n",
        "\n",
        "- **Levene’s Test for Equal Variance:**\n",
        "  - p-value = 0.6396 → No significant difference in variance between the groups.\n",
        "  - Assumption of equal variances is satisfied.\n",
        "\n",
        "- **ANOVA Test:**\n",
        "  - p-value = 0.0167 → Statistically significant difference in mean survival time between early and advanced stage groups.\n",
        "\n",
        "**Conclusion:**  \n",
        "There is strong evidence that patients with advanced-stage cancer have significantly shorter survival times than those in early-stage disease. This supports the clinical expectation and helps validate the simplified stage grouping used in this analysis.\n"
      ]
    },
    {
      "cell_type": "markdown",
      "metadata": {},
      "source": [
        "---"
      ]
    },
    {
      "cell_type": "markdown",
      "metadata": {},
      "source": [
        "# Section 4: Univariate Analysis"
      ]
    },
    {
      "cell_type": "markdown",
      "metadata": {},
      "source": [
        "## Univariate Logistic Regression: KRAS Mutation and Mortality"
      ]
    },
    {
      "cell_type": "code",
      "execution_count": 7,
      "metadata": {},
      "outputs": [
        {
          "name": "stdout",
          "output_type": "stream",
          "text": [
            "Optimization terminated successfully.\n",
            "         Current function value: 0.666783\n",
            "         Iterations 5\n",
            "                               Logit Regression Results                               \n",
            "======================================================================================\n",
            "Dep. Variable:     Event (death: 1, alive: 0)   No. Observations:                   95\n",
            "Model:                                  Logit   Df Residuals:                       93\n",
            "Method:                                   MLE   Df Model:                            1\n",
            "Date:                        Tue, 12 Aug 2025   Pseudo R-squ.:                 0.01516\n",
            "Time:                                10:55:15   Log-Likelihood:                -63.344\n",
            "converged:                               True   LL-Null:                       -64.320\n",
            "Covariance Type:                    nonrobust   LLR p-value:                    0.1625\n",
            "=========================================================================================\n",
            "                            coef    std err          z      P>|z|      [0.025      0.975]\n",
            "-----------------------------------------------------------------------------------------\n",
            "const                    -0.1591      0.253     -0.629      0.529      -0.654       0.336\n",
            "KRAS_status_Wild-type    -0.6294      0.458     -1.376      0.169      -1.526       0.267\n",
            "=========================================================================================\n",
            "\n",
            "Classification Report:\n",
            "              precision    recall  f1-score   support\n",
            "\n",
            "           0       0.59      1.00      0.74        56\n",
            "           1       0.00      0.00      0.00        39\n",
            "\n",
            "    accuracy                           0.59        95\n",
            "   macro avg       0.29      0.50      0.37        95\n",
            "weighted avg       0.35      0.59      0.44        95\n",
            "\n"
          ]
        },
        {
          "name": "stderr",
          "output_type": "stream",
          "text": [
            "c:\\Users\\petal\\Downloads\\CI-DBC\\vscode-projects\\clinical-survival-analysis\\.venv\\Lib\\site-packages\\sklearn\\metrics\\_classification.py:1469: UndefinedMetricWarning: Precision and F-score are ill-defined and being set to 0.0 in labels with no predicted samples. Use `zero_division` parameter to control this behavior.\n",
            "  _warn_prf(average, modifier, msg_start, len(result))\n",
            "c:\\Users\\petal\\Downloads\\CI-DBC\\vscode-projects\\clinical-survival-analysis\\.venv\\Lib\\site-packages\\sklearn\\metrics\\_classification.py:1469: UndefinedMetricWarning: Precision and F-score are ill-defined and being set to 0.0 in labels with no predicted samples. Use `zero_division` parameter to control this behavior.\n",
            "  _warn_prf(average, modifier, msg_start, len(result))\n",
            "c:\\Users\\petal\\Downloads\\CI-DBC\\vscode-projects\\clinical-survival-analysis\\.venv\\Lib\\site-packages\\sklearn\\metrics\\_classification.py:1469: UndefinedMetricWarning: Precision and F-score are ill-defined and being set to 0.0 in labels with no predicted samples. Use `zero_division` parameter to control this behavior.\n",
            "  _warn_prf(average, modifier, msg_start, len(result))\n"
          ]
        }
      ],
      "source": [
        "import statsmodels.api as sm\n",
        "from sklearn.metrics import classification_report\n",
        "\n",
        "# Drop NA values for KRAS mutation and Event outcome\n",
        "logit_df = validation[['Event (death: 1, alive: 0)', 'KRAS_status_Wild-type']].dropna()\n",
        "\n",
        "# Define features and target - ensure proper data types\n",
        "X = logit_df['KRAS_status_Wild-type'].astype(int)  # Convert boolean to int: 1 = Wild-type, 0 = Mutated\n",
        "y = logit_df['Event (death: 1, alive: 0)'].astype(int)  # Ensure target is integer\n",
        "\n",
        "# Add constant term for intercept\n",
        "X = sm.add_constant(X)\n",
        "\n",
        "# Fit logistic regression model\n",
        "logit_model = sm.Logit(y, X)\n",
        "result = logit_model.fit()\n",
        "\n",
        "# Print model summary\n",
        "print(result.summary())\n",
        "\n",
        "# Optional: Get classification report using 0.5 threshold\n",
        "pred_probs = result.predict(X)\n",
        "pred_labels = (pred_probs >= 0.5).astype(int)\n",
        "print(\"\\nClassification Report:\")\n",
        "print(classification_report(y, pred_labels))"
      ]
    },
    {
      "cell_type": "markdown",
      "metadata": {},
      "source": [
        "### Interpretation of Logistic Regression Results\n",
        "\n",
        "**Objective:**  \n",
        "To test whether KRAS mutation status is associated with mortality risk in lung cancer patients.\n",
        "\n",
        "**Model Setup:**  \n",
        "- **Target Variable:** Event (death: 1, alive: 0)\n",
        "- **Predictor:** KRAS_status_Wild-type (1 = Wild-type, 0 = Mutated)\n",
        "- **Sample Size:** 95 patients\n",
        "\n",
        "**Key Findings:**\n",
        "\n",
        "1. **KRAS Coefficient:** -0.6294 (p-value = 0.169)\n",
        "   - The negative coefficient suggests that patients with wild-type KRAS (no mutation) have a lower risk of death compared to those with KRAS mutations\n",
        "   - However, this association is **not statistically significant** (p > 0.05)\n",
        "\n",
        "2. **Model Performance:**\n",
        "   - **Pseudo R-squared:** 0.0152 (very low explanatory power)\n",
        "   - **Log-Likelihood Ratio p-value:** 0.1625 (model not significantly better than null)\n",
        "\n",
        "3. **Classification Performance:**\n",
        "   - **Overall Accuracy:** 59% (modest performance)\n",
        "   - The model tends to predict \"no death\" for most patients, which explains the poor precision for the death category\n",
        "\n",
        "**Conclusion:**  \n",
        "While the direction of the effect suggests that KRAS mutations might be associated with increased mortality risk, the association is not statistically significant in this dataset. The small sample size and modest effect size may limit the power to detect a significant relationship."
      ]
    },
    {
      "cell_type": "markdown",
      "metadata": {},
      "source": [
        "---"
      ]
    },
    {
      "cell_type": "markdown",
      "metadata": {},
      "source": [
        "# Kaplan-Meier Survival Analysis (by KRAS mutation status)"
      ]
    },
    {
      "cell_type": "code",
      "execution_count": 8,
      "metadata": {},
      "outputs": [
        {
          "data": {
            "image/png": "[encoded data removed]",
            "text/plain": [
              "<Figure size 1000x600 with 1 Axes>"
            ]
          },
          "metadata": {},
          "output_type": "display_data"
        },
        {
          "name": "stdout",
          "output_type": "stream",
          "text": [
            "\n",
            "Log-rank test p-value: 0.0917\n"
          ]
        }
      ],
      "source": [
        "# Import necessary libraries\n",
        "from lifelines import KaplanMeierFitter\n",
        "from lifelines.statistics import logrank_test\n",
        "import matplotlib.pyplot as plt\n",
        "\n",
        "# Prepare the dataset: filter to non-null KRAS and survival data\n",
        "km_df = validation[['Survival time (days)', 'Event (death: 1, alive: 0)', 'KRAS_status_Wild-type']].dropna()\n",
        "\n",
        "# Convert KRAS wild-type to categorical group labels for clarity\n",
        "km_df['KRAS_Status'] = km_df['KRAS_status_Wild-type'].apply(lambda x: 'Wild-type' if x else 'Mutated')\n",
        "\n",
        "# Split into two groups\n",
        "group1 = km_df[km_df['KRAS_Status'] == 'Wild-type']\n",
        "group2 = km_df[km_df['KRAS_Status'] == 'Mutated']\n",
        "\n",
        "# Initialize Kaplan-Meier fitter\n",
        "kmf = KaplanMeierFitter()\n",
        "\n",
        "# Plot the survival functions\n",
        "plt.figure(figsize=(10,6))\n",
        "\n",
        "# Plot for Wild-type\n",
        "kmf.fit(group1['Survival time (days)'], group1['Event (death: 1, alive: 0)'], label='KRAS Wild-type')\n",
        "ax = kmf.plot(ci_show=True)\n",
        "\n",
        "# Plot for Mutated\n",
        "kmf.fit(group2['Survival time (days)'], group2['Event (death: 1, alive: 0)'], label='KRAS Mutated')\n",
        "kmf.plot(ax=ax, ci_show=True)\n",
        "\n",
        "# Customize plot\n",
        "plt.title('Kaplan-Meier Survival Curve by KRAS Mutation Status')\n",
        "plt.xlabel('Survival Time (days)')\n",
        "plt.ylabel('Survival Probability')\n",
        "plt.grid(True)\n",
        "plt.tight_layout()\n",
        "plt.show()\n",
        "\n",
        "# Perform log-rank test\n",
        "results = logrank_test(\n",
        "    group1['Survival time (days)'], group2['Survival time (days)'],\n",
        "    event_observed_A=group1['Event (death: 1, alive: 0)'],\n",
        "    event_observed_B=group2['Event (death: 1, alive: 0)']\n",
        ")\n",
        "\n",
        "# Display p-value\n",
        "print(f\"\\nLog-rank test p-value: {results.p_value:.4f}\")\n"
      ]
    },
    {
      "cell_type": "markdown",
      "metadata": {},
      "source": [
        "## Kaplan-Meier Survival Analysis\n",
        "The Kaplan-Meier plot above displays survival probabilities over time for patients grouped by KRAS mutation status.\n",
        "\n",
        "* KRAS Wild-type (blue): Patients without mutations in the KRAS gene\n",
        "* KRAS Mutated (orange): Patients with KRAS mutations\n",
        "* Shaded areas represent 95% confidence intervals\n",
        "\n",
        "## Interpretation\n",
        "The survival curves indicate that patients with KRAS mutations tend to have poorer survival outcomes over time compared to those with wild-type KRAS. The curve for the mutated group shows a steeper decline, suggesting a potential association between KRAS mutations and poorer survival.\n",
        "\n",
        "To test whether this observed difference is statistically significant, a log-rank test was performed.\n",
        "\n",
        "### Log-rank test p-value: 0.0917\n",
        "\n",
        "* A p-value ≥ 0.05 means that the difference in survival may be due to random variation rather than a statistically significant effect.\n",
        "* (A p-value < 0.05 would have indicated a statistically significant difference between the two survival curves.)\n",
        "\n",
        "### Conclusion\n",
        "Although the visual trend suggests that KRAS mutations may be linked to reduced survival, the log-rank test result (p = 0.0917) indicates that this difference is not statistically significant at the 0.05 threshold. However, the result is close enough to merit further investigation with larger sample sizes or additional variables.\n",
        "\n"
      ]
    },
    {
      "cell_type": "markdown",
      "metadata": {},
      "source": [
        "---"
      ]
    },
    {
      "cell_type": "markdown",
      "metadata": {},
      "source": [
        "# Section 5: Multivariate Analysis"
      ]
    },
    {
      "cell_type": "markdown",
      "metadata": {},
      "source": [
        "## Full Multivariate Logistic Regression Model\n",
        "\n",
        "Building on the univariate analyses, we now develop a comprehensive model that examines the combined effects of multiple predictors on mortality risk. This approach helps control for confounding variables and provides a more complete picture of risk factors."
      ]
    },
    {
      "cell_type": "code",
      "execution_count": 9,
      "metadata": {},
      "outputs": [
        {
          "name": "stdout",
          "output_type": "stream",
          "text": [
            "Warning: Maximum number of iterations has been exceeded.\n",
            "         Current function value: 0.585140\n",
            "         Iterations: 35\n"
          ]
        },
        {
          "name": "stderr",
          "output_type": "stream",
          "text": [
            "c:\\Users\\petal\\Downloads\\CI-DBC\\vscode-projects\\clinical-survival-analysis\\.venv\\Lib\\site-packages\\statsmodels\\base\\model.py:607: ConvergenceWarning: Maximum Likelihood optimization failed to converge. Check mle_retvals\n",
            "  warnings.warn(\"Maximum Likelihood optimization failed to \"\n"
          ]
        },
        {
          "data": {
            "text/html": [
              "<table class=\"simpletable\">\n",
              "<tr>\n",
              "        <td>Model:</td>                   <td>Logit</td>                <td>Method:</td>         <td>MLE</td>   \n",
              "</tr>\n",
              "<tr>\n",
              "  <td>Dependent Variable:</td> <td>Event (death: 1, alive: 0)</td> <td>Pseudo R-squared:</td>   <td>0.136</td>  \n",
              "</tr>\n",
              "<tr>\n",
              "         <td>Date:</td>             <td>2025-08-12 10:55</td>            <td>AIC:</td>        <td>125.1767</td> \n",
              "</tr>\n",
              "<tr>\n",
              "   <td>No. Observations:</td>              <td>95</td>                   <td>BIC:</td>        <td>143.0538</td> \n",
              "</tr>\n",
              "<tr>\n",
              "       <td>Df Model:</td>                   <td>6</td>              <td>Log-Likelihood:</td>   <td>-55.588</td> \n",
              "</tr>\n",
              "<tr>\n",
              "     <td>Df Residuals:</td>                <td>88</td>                 <td>LL-Null:</td>       <td>-64.320</td> \n",
              "</tr>\n",
              "<tr>\n",
              "      <td>Converged:</td>                <td>0.0000</td>             <td>LLR p-value:</td>    <td>0.0077250</td>\n",
              "</tr>\n",
              "<tr>\n",
              "    <td>No. Iterations:</td>             <td>35.0000</td>               <td>Scale:</td>        <td>1.0000</td>  \n",
              "</tr>\n",
              "</table>\n",
              "<table class=\"simpletable\">\n",
              "<tr>\n",
              "                <td></td>                <th>Coef.</th>   <th>Std.Err.</th>      <th>z</th>     <th>P>|z|</th>    <th>[0.025</th>        <th>0.975]</th>   \n",
              "</tr>\n",
              "<tr>\n",
              "  <th>const</th>                        <td>-1.3497</td>   <td>1.6294</td>    <td>-0.8284</td> <td>0.4075</td>    <td>-4.5433</td>       <td>1.8438</td>   \n",
              "</tr>\n",
              "<tr>\n",
              "  <th>Age</th>                          <td>0.0110</td>    <td>0.0238</td>    <td>0.4599</td>  <td>0.6456</td>    <td>-0.0358</td>       <td>0.0577</td>   \n",
              "</tr>\n",
              "<tr>\n",
              "  <th>Stage (TNM 8th edition)_IIIA</th> <td>1.3829</td>    <td>0.6807</td>    <td>2.0318</td>  <td>0.0422</td>    <td>0.0489</td>        <td>2.7170</td>   \n",
              "</tr>\n",
              "<tr>\n",
              "  <th>Stage (TNM 8th edition)_IIIB</th> <td>26.7332</td> <td>223745.9402</td> <td>0.0001</td>  <td>0.9999</td> <td>-438507.2512</td>   <td>438560.7177</td>\n",
              "</tr>\n",
              "<tr>\n",
              "  <th>Stage (TNM 8th edition)_IVA</th>  <td>28.2241</td> <td>911129.3066</td> <td>0.0000</td>  <td>1.0000</td> <td>-1785752.4020</td> <td>1785808.8503</td>\n",
              "</tr>\n",
              "<tr>\n",
              "  <th>Sex_Male</th>                     <td>0.6787</td>    <td>0.5153</td>    <td>1.3172</td>  <td>0.1878</td>    <td>-0.3312</td>       <td>1.6886</td>   \n",
              "</tr>\n",
              "<tr>\n",
              "  <th>KRAS_status_Wild-type</th>        <td>-0.8492</td>   <td>0.5166</td>    <td>-1.6439</td> <td>0.1002</td>    <td>-1.8618</td>       <td>0.1633</td>   \n",
              "</tr>\n",
              "</table><br/>\n"
            ],
            "text/latex": [
              "\\begin{table}\n",
              "\\caption{Results: Logit}\n",
              "\\label{}\n",
              "\\begin{center}\n",
              "\\begin{tabular}{llll}\n",
              "\\hline\n",
              "Model:              & Logit                      & Method:           & MLE        \\\\\n",
              "Dependent Variable: & Event (death: 1, alive: 0) & Pseudo R-squared: & 0.136      \\\\\n",
              "Date:               & 2025-08-12 10:55           & AIC:              & 125.1767   \\\\\n",
              "No. Observations:   & 95                         & BIC:              & 143.0538   \\\\\n",
              "Df Model:           & 6                          & Log-Likelihood:   & -55.588    \\\\\n",
              "Df Residuals:       & 88                         & LL-Null:          & -64.320    \\\\\n",
              "Converged:          & 0.0000                     & LLR p-value:      & 0.0077250  \\\\\n",
              "No. Iterations:     & 35.0000                    & Scale:            & 1.0000     \\\\\n",
              "\\hline\n",
              "\\end{tabular}\n",
              "\\end{center}\n",
              "\n",
              "\\begin{center}\n",
              "\\begin{tabular}{lrrrrrr}\n",
              "\\hline\n",
              "                              &   Coef. &    Std.Err. &       z & P$> |$z$|$ &        [0.025 &       0.975]  \\\\\n",
              "\\hline\n",
              "const                         & -1.3497 &      1.6294 & -0.8284 &      0.4075 &       -4.5433 &       1.8438  \\\\\n",
              "Age                           &  0.0110 &      0.0238 &  0.4599 &      0.6456 &       -0.0358 &       0.0577  \\\\\n",
              "Stage (TNM 8th edition)\\_IIIA &  1.3829 &      0.6807 &  2.0318 &      0.0422 &        0.0489 &       2.7170  \\\\\n",
              "Stage (TNM 8th edition)\\_IIIB & 26.7332 & 223745.9402 &  0.0001 &      0.9999 &  -438507.2512 &  438560.7177  \\\\\n",
              "Stage (TNM 8th edition)\\_IVA  & 28.2241 & 911129.3066 &  0.0000 &      1.0000 & -1785752.4020 & 1785808.8503  \\\\\n",
              "Sex\\_Male                     &  0.6787 &      0.5153 &  1.3172 &      0.1878 &       -0.3312 &       1.6886  \\\\\n",
              "KRAS\\_status\\_Wild-type       & -0.8492 &      0.5166 & -1.6439 &      0.1002 &       -1.8618 &       0.1633  \\\\\n",
              "\\hline\n",
              "\\end{tabular}\n",
              "\\end{center}\n",
              "\\end{table}\n",
              "\\bigskip\n"
            ],
            "text/plain": [
              "<class 'statsmodels.iolib.summary2.Summary'>\n",
              "\"\"\"\n",
              "                                      Results: Logit\n",
              "==========================================================================================\n",
              "Model:                    Logit                           Method:                MLE      \n",
              "Dependent Variable:       Event (death: 1, alive: 0)      Pseudo R-squared:      0.136    \n",
              "Date:                     2025-08-12 10:55                AIC:                   125.1767 \n",
              "No. Observations:         95                              BIC:                   143.0538 \n",
              "Df Model:                 6                               Log-Likelihood:        -55.588  \n",
              "Df Residuals:             88                              LL-Null:               -64.320  \n",
              "Converged:                0.0000                          LLR p-value:           0.0077250\n",
              "No. Iterations:           35.0000                         Scale:                 1.0000   \n",
              "------------------------------------------------------------------------------------------\n",
              "                              Coef.    Std.Err.     z    P>|z|      [0.025       0.975]   \n",
              "------------------------------------------------------------------------------------------\n",
              "const                        -1.3497      1.6294 -0.8284 0.4075       -4.5433       1.8438\n",
              "Age                           0.0110      0.0238  0.4599 0.6456       -0.0358       0.0577\n",
              "Stage (TNM 8th edition)_IIIA  1.3829      0.6807  2.0318 0.0422        0.0489       2.7170\n",
              "Stage (TNM 8th edition)_IIIB 26.7332 223745.9402  0.0001 0.9999  -438507.2512  438560.7177\n",
              "Stage (TNM 8th edition)_IVA  28.2241 911129.3066  0.0000 1.0000 -1785752.4020 1785808.8503\n",
              "Sex_Male                      0.6787      0.5153  1.3172 0.1878       -0.3312       1.6886\n",
              "KRAS_status_Wild-type        -0.8492      0.5166 -1.6439 0.1002       -1.8618       0.1633\n",
              "==========================================================================================\n",
              "\n",
              "\"\"\""
            ]
          },
          "execution_count": 9,
          "metadata": {},
          "output_type": "execute_result"
        }
      ],
      "source": [
        "import statsmodels.api as sm\n",
        "\n",
        "# Define features and target - using the correct stage column names\n",
        "features = ['Age', 'Stage (TNM 8th edition)_IIIA', 'Stage (TNM 8th edition)_IIIB', 'Stage (TNM 8th edition)_IVA', 'Sex_Male', 'KRAS_status_Wild-type']\n",
        "X = validation[features].copy()\n",
        "\n",
        "# Convert boolean columns to integers for statsmodels\n",
        "for col in X.columns:\n",
        "    if X[col].dtype == 'bool':\n",
        "        X[col] = X[col].astype(int)\n",
        "\n",
        "X = sm.add_constant(X)  # Add intercept\n",
        "y = validation['Event (death: 1, alive: 0)']\n",
        "\n",
        "# Fit logistic regression model\n",
        "logit_model = sm.Logit(y, X).fit()\n",
        "\n",
        "# Display summary\n",
        "logit_model.summary2()"
      ]
    },
    {
      "cell_type": "markdown",
      "metadata": {},
      "source": [
        "## Multivariate Logistic Regression Results\n",
        "This logistic regression model aimed to estimate the odds of mortality (event = death) based on multiple clinical variables in the validation cohort.\n",
        "\n",
        "### Model Summary\n",
        "* Sample Size: 95 patients\n",
        "* Pseudo R-squared: 0.136 (moderate explanatory power)\n",
        "* LLR p-value: 0.0077 (model is statistically significant overall)\n",
        "* Convergence Warning: Model did not fully converge within 35 iterations. Coefficients may be unstable - interpret with caution."
      ]
    },
    {
      "cell_type": "markdown",
      "metadata": {},
      "source": [
        "### Key Predictors\n",
        "| Predictor            | Coef (log-odds)        | P-value  | Interpretation                                                                                         |\n",
        "| -------------------- | ---------------------- | -------- | ------------------------------------------------------------------------------------------------------ |\n",
        "| **Stage IIIA**       | 1.38                   | 0.0422   | Statistically significant. Stage IIIA patients had increased odds of death compared to baseline stage. |\n",
        "| **Stage IIIB & IVA** | Large, unstable values | > 0.9999 | Coefficients likely unreliable due to sparse data in these groups.                                     |\n",
        "| **Sex (Male)**       | 0.68                   | 0.1878   | Not statistically significant, but suggests higher odds of death among males.                          |\n",
        "| **Age**              | 0.011                  | 0.6456   | Not significant. Minimal effect in this cohort.                                                        |\n",
        "| **KRAS Wild-type**   | -0.85                  | 0.1002   | Suggests lower risk of death for wild-type, but not statistically significant.                         |\n"
      ]
    },
    {
      "cell_type": "markdown",
      "metadata": {},
      "source": [
        "### Model Convergence Issues and Rationale for Model Reduction\n",
        "\n",
        "The full multivariate model encountered significant convergence problems, likely due to:\n",
        "\n",
        "1. **Multicollinearity between staging variables**: TNM staging categories (IIIA, IIIB, IVA) are mutually exclusive and highly correlated\n",
        "2. **Sparse data in advanced stages**: Very few patients in Stage IIIB and IVA groups\n",
        "3. **Near-perfect separation**: Some stage categories almost perfectly predicted the outcome, causing extremely large coefficient estimates.\n",
        "\n",
        "These issues resulted in:\n",
        "- **Unstable coefficient estimates** for Stage IIIB and IVA (extremely large values)\n",
        "- **Model convergence failure** after 35 iterations\n",
        "- **Unreliable standard errors and p-values**\n",
        "\n",
        "**Decision**: A reduced model was developed to address these issues and provide more reliable estimates."
      ]
    },
    {
      "cell_type": "markdown",
      "metadata": {},
      "source": [
        "## Reduced Logistic Regression Model"
      ]
    },
    {
      "cell_type": "code",
      "execution_count": 10,
      "metadata": {},
      "outputs": [
        {
          "name": "stdout",
          "output_type": "stream",
          "text": [
            "Optimization terminated successfully.\n",
            "         Current function value: 0.633826\n",
            "         Iterations 5\n"
          ]
        },
        {
          "data": {
            "text/html": [
              "<table class=\"simpletable\">\n",
              "<tr>\n",
              "        <td>Model:</td>                   <td>Logit</td>                <td>Method:</td>         <td>MLE</td>  \n",
              "</tr>\n",
              "<tr>\n",
              "  <td>Dependent Variable:</td> <td>Event (death: 1, alive: 0)</td> <td>Pseudo R-squared:</td>   <td>0.064</td> \n",
              "</tr>\n",
              "<tr>\n",
              "         <td>Date:</td>             <td>2025-08-12 10:55</td>            <td>AIC:</td>        <td>130.4269</td>\n",
              "</tr>\n",
              "<tr>\n",
              "   <td>No. Observations:</td>              <td>95</td>                   <td>BIC:</td>        <td>143.1963</td>\n",
              "</tr>\n",
              "<tr>\n",
              "       <td>Df Model:</td>                   <td>4</td>              <td>Log-Likelihood:</td>   <td>-60.213</td>\n",
              "</tr>\n",
              "<tr>\n",
              "     <td>Df Residuals:</td>                <td>90</td>                 <td>LL-Null:</td>       <td>-64.320</td>\n",
              "</tr>\n",
              "<tr>\n",
              "      <td>Converged:</td>                <td>1.0000</td>             <td>LLR p-value:</td>    <td>0.084096</td>\n",
              "</tr>\n",
              "<tr>\n",
              "    <td>No. Iterations:</td>             <td>5.0000</td>                <td>Scale:</td>        <td>1.0000</td> \n",
              "</tr>\n",
              "</table>\n",
              "<table class=\"simpletable\">\n",
              "<tr>\n",
              "                <td></td>                <th>Coef.</th>  <th>Std.Err.</th>    <th>z</th>     <th>P>|z|</th> <th>[0.025</th>  <th>0.975]</th>\n",
              "</tr>\n",
              "<tr>\n",
              "  <th>const</th>                        <td>-0.5717</td>  <td>1.5251</td>  <td>-0.3749</td> <td>0.7078</td> <td>-3.5608</td> <td>2.4174</td>\n",
              "</tr>\n",
              "<tr>\n",
              "  <th>Age</th>                          <td>0.0022</td>   <td>0.0226</td>  <td>0.0956</td>  <td>0.9238</td> <td>-0.0422</td> <td>0.0465</td>\n",
              "</tr>\n",
              "<tr>\n",
              "  <th>Stage (TNM 8th edition)_IIIA</th> <td>1.2677</td>   <td>0.6778</td>  <td>1.8704</td>  <td>0.0614</td> <td>-0.0607</td> <td>2.5961</td>\n",
              "</tr>\n",
              "<tr>\n",
              "  <th>Sex_Male</th>                     <td>0.4954</td>   <td>0.5048</td>  <td>0.9812</td>  <td>0.3265</td> <td>-0.4941</td> <td>1.4848</td>\n",
              "</tr>\n",
              "<tr>\n",
              "  <th>KRAS_status_Wild-type</th>        <td>-0.7921</td>  <td>0.4885</td>  <td>-1.6215</td> <td>0.1049</td> <td>-1.7495</td> <td>0.1653</td>\n",
              "</tr>\n",
              "</table><br/>\n"
            ],
            "text/latex": [
              "\\begin{table}\n",
              "\\caption{Results: Logit}\n",
              "\\label{}\n",
              "\\begin{center}\n",
              "\\begin{tabular}{llll}\n",
              "\\hline\n",
              "Model:              & Logit                      & Method:           & MLE       \\\\\n",
              "Dependent Variable: & Event (death: 1, alive: 0) & Pseudo R-squared: & 0.064     \\\\\n",
              "Date:               & 2025-08-12 10:55           & AIC:              & 130.4269  \\\\\n",
              "No. Observations:   & 95                         & BIC:              & 143.1963  \\\\\n",
              "Df Model:           & 4                          & Log-Likelihood:   & -60.213   \\\\\n",
              "Df Residuals:       & 90                         & LL-Null:          & -64.320   \\\\\n",
              "Converged:          & 1.0000                     & LLR p-value:      & 0.084096  \\\\\n",
              "No. Iterations:     & 5.0000                     & Scale:            & 1.0000    \\\\\n",
              "\\hline\n",
              "\\end{tabular}\n",
              "\\end{center}\n",
              "\n",
              "\\begin{center}\n",
              "\\begin{tabular}{lrrrrrr}\n",
              "\\hline\n",
              "                              &   Coef. & Std.Err. &       z & P$> |$z$|$ &  [0.025 & 0.975]  \\\\\n",
              "\\hline\n",
              "const                         & -0.5717 &   1.5251 & -0.3749 &      0.7078 & -3.5608 & 2.4174  \\\\\n",
              "Age                           &  0.0022 &   0.0226 &  0.0956 &      0.9238 & -0.0422 & 0.0465  \\\\\n",
              "Stage (TNM 8th edition)\\_IIIA &  1.2677 &   0.6778 &  1.8704 &      0.0614 & -0.0607 & 2.5961  \\\\\n",
              "Sex\\_Male                     &  0.4954 &   0.5048 &  0.9812 &      0.3265 & -0.4941 & 1.4848  \\\\\n",
              "KRAS\\_status\\_Wild-type       & -0.7921 &   0.4885 & -1.6215 &      0.1049 & -1.7495 & 0.1653  \\\\\n",
              "\\hline\n",
              "\\end{tabular}\n",
              "\\end{center}\n",
              "\\end{table}\n",
              "\\bigskip\n"
            ],
            "text/plain": [
              "<class 'statsmodels.iolib.summary2.Summary'>\n",
              "\"\"\"\n",
              "                              Results: Logit\n",
              "===========================================================================\n",
              "Model:                Logit                      Method:           MLE     \n",
              "Dependent Variable:   Event (death: 1, alive: 0) Pseudo R-squared: 0.064   \n",
              "Date:                 2025-08-12 10:55           AIC:              130.4269\n",
              "No. Observations:     95                         BIC:              143.1963\n",
              "Df Model:             4                          Log-Likelihood:   -60.213 \n",
              "Df Residuals:         90                         LL-Null:          -64.320 \n",
              "Converged:            1.0000                     LLR p-value:      0.084096\n",
              "No. Iterations:       5.0000                     Scale:            1.0000  \n",
              "---------------------------------------------------------------------------\n",
              "                              Coef.  Std.Err.    z    P>|z|   [0.025 0.975]\n",
              "---------------------------------------------------------------------------\n",
              "const                        -0.5717   1.5251 -0.3749 0.7078 -3.5608 2.4174\n",
              "Age                           0.0022   0.0226  0.0956 0.9238 -0.0422 0.0465\n",
              "Stage (TNM 8th edition)_IIIA  1.2677   0.6778  1.8704 0.0614 -0.0607 2.5961\n",
              "Sex_Male                      0.4954   0.5048  0.9812 0.3265 -0.4941 1.4848\n",
              "KRAS_status_Wild-type        -0.7921   0.4885 -1.6215 0.1049 -1.7495 0.1653\n",
              "===========================================================================\n",
              "\n",
              "\"\"\""
            ]
          },
          "execution_count": 10,
          "metadata": {},
          "output_type": "execute_result"
        }
      ],
      "source": [
        "import statsmodels.api as sm\n",
        "\n",
        "# Define reduced set of features\n",
        "features_reduced = ['Age', 'Stage (TNM 8th edition)_IIIA', 'Sex_Male', 'KRAS_status_Wild-type']\n",
        "X_reduced = validation[features_reduced].copy()\n",
        "\n",
        "# Convert boolean columns to integers\n",
        "for col in X_reduced.columns:\n",
        "    if X_reduced[col].dtype == 'bool':\n",
        "        X_reduced[col] = X_reduced[col].astype(int)\n",
        "\n",
        "# Add intercept\n",
        "X_reduced = sm.add_constant(X_reduced)\n",
        "\n",
        "# Define target variable\n",
        "y = validation['Event (death: 1, alive: 0)']\n",
        "\n",
        "# Fit logistic regression model\n",
        "logit_model_reduced = sm.Logit(y, X_reduced).fit()\n",
        "\n",
        "# Show summary\n",
        "logit_model_reduced.summary2()\n"
      ]
    },
    {
      "cell_type": "markdown",
      "metadata": {},
      "source": [
        "### Objective:\n",
        "To investigate whether the patient characteristics, age, sex, cancer stage, and KRAS mutation status, are associated with mortality risk.\n",
        "\n",
        "### Model Setup:\n",
        "* Target Variable: Event (death: 1, alive: 0)\n",
        "* Predictors:\n",
        "    * Age\n",
        "    * Stage (TNM 8th edition)_IIIA\n",
        "    * Sex_Male\n",
        "    * KRAS_status_Wild-type\n",
        "* Sample Size: 95 patients"
      ]
    },
    {
      "cell_type": "markdown",
      "metadata": {},
      "source": [
        "### Key Findings:\n",
        "1. KRAS_status_Wild-type\n",
        "* Coefficient: -0.7921\n",
        "* p-value: 0.1049\n",
        "* Interpretation: Patients with wild-type KRAS tend to have lower odds of death compared to those with KRAS mutations.\n",
        "\n",
        "➤ However, this result is not statistically significant (p > 0.05).\n",
        "\n",
        "2. Stage IIIA\n",
        "* Coefficient: 1.2677\n",
        "* p-value: 0.0614\n",
        "* Interpretation: Stage IIIA patients show increased odds of mortality, and this is borderline significant (just above the 0.05 threshold).\n",
        "\n",
        "➤ Suggests a potential effect worth exploring further.\n",
        "\n",
        "3. Sex_Male\n",
        "* Coefficient: 0.4954\n",
        "* p-value: 0.3265\n",
        "\n",
        "➤ Not statistically significant. Males may have slightly higher odds of death, but this result is not strong.\n",
        "\n",
        "4. Age\n",
        "* Coefficient: 0.0022\n",
        "* p-value: 0.9238\n",
        "\n",
        "➤ Age does not appear to significantly impact mortality in this dataset.\n",
        "\n",
        "### Model Performance:\n",
        "* Pseudo R²: 0.064 (modest explanatory power)\n",
        "* Log-Likelihood Ratio Test p-value: 0.0841\n",
        "\n",
        "➤ The model is marginally better than a null model (again, borderline significance).\n",
        "\n",
        "### Interpretation Summary:\n",
        "This reduced logistic regression model provides clearer, more stable estimates compared to the full model.\n",
        "* KRAS mutation status and Stage IIIA show the strongest associations with mortality risk, although neither reaches strict statistical significance.\n",
        "* The model suggests trends that may become clearer with a larger sample."
      ]
    },
    {
      "cell_type": "code",
      "execution_count": 11,
      "metadata": {},
      "outputs": [
        {
          "data": {
            "image/png": "[encoded data removed]",
            "text/plain": [
              "<Figure size 800x500 with 1 Axes>"
            ]
          },
          "metadata": {},
          "output_type": "display_data"
        },
        {
          "data": {
            "text/plain": [
              "<Figure size 640x480 with 0 Axes>"
            ]
          },
          "metadata": {},
          "output_type": "display_data"
        }
      ],
      "source": [
        "import matplotlib.pyplot as plt\n",
        "import numpy as np\n",
        "import pandas as pd\n",
        "\n",
        "# Manually input odds ratios and confidence intervals based on the latest output\n",
        "odds_ratios = {\n",
        "    \"Age\": 1.0022,\n",
        "    \"Stage (TNM 8th edition)_IIIA\": 3.5524,\n",
        "    \"Sex_Male\": 1.6410,\n",
        "    \"KRAS_status_Wild-type\": 0.4516\n",
        "}\n",
        "\n",
        "# 95% Confidence Intervals (lower and upper bounds)\n",
        "conf_ints = {\n",
        "    \"Age\": (0.9588, 1.0476),\n",
        "    \"Stage (TNM 8th edition)_IIIA\": (0.9413, 13.3991),\n",
        "    \"Sex_Male\": (0.6098, 4.5274),\n",
        "    \"KRAS_status_Wild-type\": (0.1835, 1.1117)\n",
        "}\n",
        "\n",
        "# Prepare data for plotting\n",
        "variables = list(odds_ratios.keys())\n",
        "odds = [odds_ratios[var] for var in variables]\n",
        "lower_bounds = [odds_ratios[var] - conf_ints[var][0] for var in variables]\n",
        "upper_bounds = [conf_ints[var][1] - odds_ratios[var] for var in variables]\n",
        "\n",
        "# Plot\n",
        "fig, ax = plt.subplots(figsize=(8, 5))\n",
        "bars = ax.bar(variables, odds, yerr=[lower_bounds, upper_bounds], capsize=8, color='skyblue')\n",
        "ax.axhline(1, linestyle='--', color='gray')  # Reference line at OR = 1\n",
        "\n",
        "ax.set_ylabel(\"Odds Ratio\")\n",
        "ax.set_title(\"Odds Ratios with 95% CI (Logistic Regression)\")\n",
        "plt.xticks(rotation=45, ha='right')\n",
        "plt.tight_layout()\n",
        "\n",
        "plt.show()\n",
        "\n",
        "plt.savefig(\"odds_ratios_plot.png\", dpi=300, bbox_inches='tight')\n",
        "\n"
      ]
    },
    {
      "cell_type": "markdown",
      "metadata": {},
      "source": [
        "### Odds Ratios Visualization and Interpretation\n",
        "\n",
        "The plot above displays the odds ratios (OR) and 95% confidence intervals for predictors in the reduced logistic regression model examining mortality risk.\n",
        "\n",
        "**Key Findings:**\n",
        "\n",
        "**Stage IIIA (TNM 8th Edition)**\n",
        "- OR ≈ 3.56 - Patients at this stage have over 3 times the odds of death compared to earlier stages\n",
        "- Borderline statistical significance (p = 0.0614) with wide confidence interval reflects uncertainty due to sample size\n",
        "\n",
        "**KRAS_status_Wild-type**\n",
        "- OR ≈ 0.45 - Suggests a protective effect (reduced odds of death) for wild-type KRAS\n",
        "- Confidence interval crosses 1, indicating non-significance, but effect direction is consistent with clinical expectations\n",
        "\n",
        "**Sex_Male**\n",
        "- OR ≈ 1.64 - Males may have increased mortality risk compared to females\n",
        "- Not statistically significant but shows expected directional effect\n",
        "\n",
        "**Age**\n",
        "- OR ≈ 1.00 - Minimal influence on mortality in this model\n",
        "- Tight confidence intervals around 1 suggest age is not a significant predictor in this cohort\n",
        "\n",
        "**Clinical Interpretation:**\n",
        "The reduced model successfully addresses convergence issues while maintaining interpretable estimates. Stage remains the strongest predictor, with KRAS status showing promising trends that warrant larger studies."
      ]
    },
    {
      "cell_type": "markdown",
      "metadata": {
        "id": "ltNetd085qHf"
      },
      "source": [
        "---"
      ]
    },
    {
      "cell_type": "markdown",
      "metadata": {},
      "source": [
        "# Conclusions and Key Findings\n",
        "\n",
        "## Summary of Analysis Results\n",
        "\n",
        "### 1. Correlation Analysis\n",
        "- Weak correlations (< 0.20) among all continuous variables suggest minimal multicollinearity issues\n",
        "- No strong linear relationships detected between key predictors\n",
        "\n",
        "### 2. Hypothesis Testing\n",
        "- **Stage Effect**: ANOVA confirmed significant difference in survival time between early and advanced stages (p = 0.0167)\n",
        "- **KRAS Mutation**: Survival analysis showed trends toward poorer outcomes in mutated patients, but not statistically significant (log-rank p = 0.0917)\n",
        "\n",
        "### 3. Predictive Modeling\n",
        "- **Full Model Issues**: Initial multivariate logistic regression failed to converge due to multicollinearity and sparse data in advanced staging categories\n",
        "- **Reduced Model Performance**: A reduced model was chosen after the full model failed to converge, likely due to a strong overlap (multicollinearity) between TNM staging variables. The final model offers clearer and more interpretable results.\n",
        "- **Key Predictors**: Stage IIIA showed borderline significance (p = 0.0614), while KRAS status showed consistent directional effects but lacked statistical significance\n",
        "\n",
        "### 4. Clinical Implications\n",
        "- **Stage (of disease) remains the strongest predictor** of mortality risk in this cohort\n",
        "- **KRAS gene mutation status** shows promising trends that warrant investigation in larger studies\n",
        "- **Sample size limitations** may be affecting the power to detect significant associations\n",
        "\n",
        "## Limitations\n",
        "- Small sample size (n = 95) limits statistical power\n",
        "- Sparse representation in advanced disease stages\n",
        "- Model convergence issues suggest need for alternative modeling approaches\n",
        "\n",
        "---\n",
        "\n",
        "## Steps for the Future\n",
        "- Possible validation in larger, independent cohorts\n",
        "- Consider alternative modeling approaches (e.g., penalized regression, survival modeling)\n",
        "- Investigation of additional biomarkers (genes associated with cancer) and clinical variables\n",
        "\n",
        "## Next Steps\n",
        "- Overall Evaluation and Conclusions - Notebook 4"
      ]
    },
    {
      "cell_type": "code",
      "execution_count": 12,
      "metadata": {},
      "outputs": [],
      "source": [
        "# Optional: Example of how to export a model if needed for future deployment\n",
        "# Save final logistic regression model\n",
        "import pickle\n",
        "with open(\"reduced_logit_model.pkl\", \"wb\") as f:\n",
        "    pickle.dump(logit_model, f)\n"
      ]
    }
  ],
  "metadata": {
    "accelerator": "GPU",
    "colab": {
      "name": "Data Practitioner Jupyter Notebook.ipynb",
      "provenance": [],
      "toc_visible": true
    },
    "kernelspec": {
      "display_name": ".venv (3.12.8)",
      "language": "python",
      "name": "python3"
    },
    "language_info": {
      "codemirror_mode": {
        "name": "ipython",
        "version": 3
      },
      "file_extension": ".py",
      "mimetype": "text/x-python",
      "name": "python",
      "nbconvert_exporter": "python",
      "pygments_lexer": "ipython3",
      "version": "3.12.8"
    },
    "orig_nbformat": 2
  },
  "nbformat": 4,
  "nbformat_minor": 2
}
