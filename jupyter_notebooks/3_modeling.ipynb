{
  "cells": [
    {
      "cell_type": "markdown",
      "metadata": {
        "id": "0aStgWSO0E0E"
      },
      "source": [
        "# **PREDICTIVE MODELLING**"
      ]
    },
    {
      "cell_type": "markdown",
      "metadata": {
        "id": "1eLEkw5O0ECa"
      },
      "source": [
        "## Objectives\n",
        "\n",
        "* Develop simple predictive models for clinical outcomes using logistic and linear regression.\n",
        "* Test hypotheses from earlier stages (e.g., KRAS mutation and mortality risk).\n",
        "* Evaluate model performance and interpret key features.\n",
        "\n",
        "\n",
        "\n",
        "## Inputs\n",
        "\n",
        "* discovery_clean.csv\n",
        "* validation_clean.csv\n",
        "\n",
        "## Outputs\n",
        "\n",
        "* Trained models (in memory or optionally serialized)\n",
        "* Evaluation metrics: accuracy, AUC, confusion matrix\n",
        "* Interpretations of feature importance\n",
        "\n",
        "## Additional Comments\n",
        "\n",
        "* Modeling will focus on classification (mortality) and optionally regression (e.g., survival time).\n",
        "* Dataset size constraints will be considered in model choice and interpretation.\n",
        "* Only interpretable models (logistic, linear regression) will be used.\n"
      ]
    },
    {
      "cell_type": "markdown",
      "metadata": {
        "id": "9uWZXH9LwoQg"
      },
      "source": [
        "---"
      ]
    },
    {
      "cell_type": "markdown",
      "metadata": {
        "id": "cqP-UeN-z3i2"
      },
      "source": [
        "# Change working directory"
      ]
    },
    {
      "cell_type": "markdown",
      "metadata": {
        "id": "aOGIGS-uz3i2"
      },
      "source": [
        "We need to change the working directory from its current folder to its parent folder\n",
        "* We access the current directory with os.getcwd()"
      ]
    },
    {
      "cell_type": "code",
      "execution_count": 1,
      "metadata": {
        "id": "wZfF_j-Bz3i4",
        "outputId": "66943449-1436-4c3d-85c7-b85f9f78349b"
      },
      "outputs": [
        {
          "data": {
            "text/plain": [
              "'c:\\\\Users\\\\petal\\\\Downloads\\\\CI-DBC\\\\vscode-projects\\\\clinical-survival-analysis\\\\jupyter_notebooks'"
            ]
          },
          "execution_count": 1,
          "metadata": {},
          "output_type": "execute_result"
        }
      ],
      "source": [
        "import os\n",
        "current_dir = os.getcwd()\n",
        "current_dir"
      ]
    },
    {
      "cell_type": "markdown",
      "metadata": {
        "id": "9MWW8E7lz3i7"
      },
      "source": [
        "We want to make the parent of the current directory the new current directory\n",
        "* os.path.dirname() gets the parent directory\n",
        "* os.chir() defines the new current directory"
      ]
    },
    {
      "cell_type": "code",
      "execution_count": 2,
      "metadata": {
        "id": "TwHsQRWjz3i9",
        "outputId": "86849db3-cd2f-4cc5-ebb8-2d0caafa1a2c"
      },
      "outputs": [
        {
          "name": "stdout",
          "output_type": "stream",
          "text": [
            "You set a new current directory\n"
          ]
        }
      ],
      "source": [
        "os.chdir(os.path.dirname(current_dir))\n",
        "print(\"You set a new current directory\")"
      ]
    },
    {
      "cell_type": "markdown",
      "metadata": {
        "id": "M_xPk_Ijz3i-"
      },
      "source": [
        "Confirm the new current directory"
      ]
    },
    {
      "cell_type": "code",
      "execution_count": 3,
      "metadata": {
        "id": "vz3S-_kjz3jA",
        "outputId": "00b79ae4-75d0-4a96-d193-ac9ef9847ea2"
      },
      "outputs": [
        {
          "data": {
            "text/plain": [
              "'c:\\\\Users\\\\petal\\\\Downloads\\\\CI-DBC\\\\vscode-projects\\\\clinical-survival-analysis'"
            ]
          },
          "execution_count": 3,
          "metadata": {},
          "output_type": "execute_result"
        }
      ],
      "source": [
        "current_dir = os.getcwd()\n",
        "current_dir"
      ]
    },
    {
      "cell_type": "markdown",
      "metadata": {
        "id": "-mavJ8DibrcQ"
      },
      "source": [
        "# Section 1"
      ]
    },
    {
      "cell_type": "markdown",
      "metadata": {},
      "source": [
        "# Import Libraries and Load Cleaned Data"
      ]
    },
    {
      "cell_type": "code",
      "execution_count": 4,
      "metadata": {},
      "outputs": [
        {
          "name": "stdout",
          "output_type": "stream",
          "text": [
            "Discovery cohort shape: (30, 26)\n",
            "Validation cohort shape: (95, 26)\n"
          ]
        },
        {
          "data": {
            "text/html": [
              "<div>\n",
              "<style scoped>\n",
              "    .dataframe tbody tr th:only-of-type {\n",
              "        vertical-align: middle;\n",
              "    }\n",
              "\n",
              "    .dataframe tbody tr th {\n",
              "        vertical-align: top;\n",
              "    }\n",
              "\n",
              "    .dataframe thead th {\n",
              "        text-align: right;\n",
              "    }\n",
              "</style>\n",
              "<table border=\"1\" class=\"dataframe\">\n",
              "  <thead>\n",
              "    <tr style=\"text-align: right;\">\n",
              "      <th></th>\n",
              "      <th>PatientID</th>\n",
              "      <th>Specimen date</th>\n",
              "      <th>Dead or Alive</th>\n",
              "      <th>Date of Death</th>\n",
              "      <th>Date of Last Follow Up</th>\n",
              "      <th>Event</th>\n",
              "      <th>Time</th>\n",
              "      <th>sex_M</th>\n",
              "      <th>race_B</th>\n",
              "      <th>race_O</th>\n",
              "      <th>...</th>\n",
              "      <th>Stage_T1N0</th>\n",
              "      <th>Stage_T1NOMX</th>\n",
              "      <th>Stage_T2N0</th>\n",
              "      <th>Stage_T2N1MX</th>\n",
              "      <th>Stage_T2N2MX</th>\n",
              "      <th>Stage_T2NOMX</th>\n",
              "      <th>Stage_pT1pN0</th>\n",
              "      <th>Stage_pT2N2MX</th>\n",
              "      <th>Stage_pT2NOMX</th>\n",
              "      <th>Stage_pT2pN0</th>\n",
              "    </tr>\n",
              "  </thead>\n",
              "  <tbody>\n",
              "    <tr>\n",
              "      <th>0</th>\n",
              "      <td>1</td>\n",
              "      <td>2003-03-17</td>\n",
              "      <td>Dead</td>\n",
              "      <td>2010-02-24</td>\n",
              "      <td>2010-02-24</td>\n",
              "      <td>1</td>\n",
              "      <td>2536</td>\n",
              "      <td>False</td>\n",
              "      <td>True</td>\n",
              "      <td>False</td>\n",
              "      <td>...</td>\n",
              "      <td>False</td>\n",
              "      <td>False</td>\n",
              "      <td>False</td>\n",
              "      <td>False</td>\n",
              "      <td>False</td>\n",
              "      <td>False</td>\n",
              "      <td>False</td>\n",
              "      <td>True</td>\n",
              "      <td>False</td>\n",
              "      <td>False</td>\n",
              "    </tr>\n",
              "    <tr>\n",
              "      <th>1</th>\n",
              "      <td>2</td>\n",
              "      <td>2003-06-17</td>\n",
              "      <td>Dead</td>\n",
              "      <td>2004-11-12</td>\n",
              "      <td>2004-11-12</td>\n",
              "      <td>1</td>\n",
              "      <td>514</td>\n",
              "      <td>True</td>\n",
              "      <td>False</td>\n",
              "      <td>False</td>\n",
              "      <td>...</td>\n",
              "      <td>False</td>\n",
              "      <td>False</td>\n",
              "      <td>False</td>\n",
              "      <td>False</td>\n",
              "      <td>True</td>\n",
              "      <td>False</td>\n",
              "      <td>False</td>\n",
              "      <td>False</td>\n",
              "      <td>False</td>\n",
              "      <td>False</td>\n",
              "    </tr>\n",
              "    <tr>\n",
              "      <th>2</th>\n",
              "      <td>3</td>\n",
              "      <td>2003-09-09</td>\n",
              "      <td>Dead</td>\n",
              "      <td>2009-08-01</td>\n",
              "      <td>2009-08-01</td>\n",
              "      <td>1</td>\n",
              "      <td>2153</td>\n",
              "      <td>False</td>\n",
              "      <td>True</td>\n",
              "      <td>False</td>\n",
              "      <td>...</td>\n",
              "      <td>False</td>\n",
              "      <td>False</td>\n",
              "      <td>False</td>\n",
              "      <td>True</td>\n",
              "      <td>False</td>\n",
              "      <td>False</td>\n",
              "      <td>False</td>\n",
              "      <td>False</td>\n",
              "      <td>False</td>\n",
              "      <td>False</td>\n",
              "    </tr>\n",
              "    <tr>\n",
              "      <th>3</th>\n",
              "      <td>4</td>\n",
              "      <td>2003-10-14</td>\n",
              "      <td>Dead</td>\n",
              "      <td>2006-12-29</td>\n",
              "      <td>2006-12-29</td>\n",
              "      <td>1</td>\n",
              "      <td>1172</td>\n",
              "      <td>True</td>\n",
              "      <td>False</td>\n",
              "      <td>False</td>\n",
              "      <td>...</td>\n",
              "      <td>False</td>\n",
              "      <td>False</td>\n",
              "      <td>False</td>\n",
              "      <td>False</td>\n",
              "      <td>False</td>\n",
              "      <td>False</td>\n",
              "      <td>False</td>\n",
              "      <td>False</td>\n",
              "      <td>True</td>\n",
              "      <td>False</td>\n",
              "    </tr>\n",
              "    <tr>\n",
              "      <th>4</th>\n",
              "      <td>5</td>\n",
              "      <td>2003-12-01</td>\n",
              "      <td>Dead</td>\n",
              "      <td>2004-01-31</td>\n",
              "      <td>2004-01-31</td>\n",
              "      <td>1</td>\n",
              "      <td>61</td>\n",
              "      <td>False</td>\n",
              "      <td>False</td>\n",
              "      <td>False</td>\n",
              "      <td>...</td>\n",
              "      <td>False</td>\n",
              "      <td>False</td>\n",
              "      <td>False</td>\n",
              "      <td>False</td>\n",
              "      <td>False</td>\n",
              "      <td>True</td>\n",
              "      <td>False</td>\n",
              "      <td>False</td>\n",
              "      <td>False</td>\n",
              "      <td>False</td>\n",
              "    </tr>\n",
              "  </tbody>\n",
              "</table>\n",
              "<p>5 rows × 26 columns</p>\n",
              "</div>"
            ],
            "text/plain": [
              "   PatientID Specimen date Dead or Alive Date of Death Date of Last Follow Up  \\\n",
              "0          1    2003-03-17          Dead    2010-02-24             2010-02-24   \n",
              "1          2    2003-06-17          Dead    2004-11-12             2004-11-12   \n",
              "2          3    2003-09-09          Dead    2009-08-01             2009-08-01   \n",
              "3          4    2003-10-14          Dead    2006-12-29             2006-12-29   \n",
              "4          5    2003-12-01          Dead    2004-01-31             2004-01-31   \n",
              "\n",
              "   Event  Time  sex_M  race_B  race_O  ...  Stage_T1N0  Stage_T1NOMX  \\\n",
              "0      1  2536  False    True   False  ...       False         False   \n",
              "1      1   514   True   False   False  ...       False         False   \n",
              "2      1  2153  False    True   False  ...       False         False   \n",
              "3      1  1172   True   False   False  ...       False         False   \n",
              "4      1    61  False   False   False  ...       False         False   \n",
              "\n",
              "   Stage_T2N0  Stage_T2N1MX  Stage_T2N2MX  Stage_T2NOMX  Stage_pT1pN0  \\\n",
              "0       False         False         False         False         False   \n",
              "1       False         False          True         False         False   \n",
              "2       False          True         False         False         False   \n",
              "3       False         False         False         False         False   \n",
              "4       False         False         False          True         False   \n",
              "\n",
              "   Stage_pT2N2MX  Stage_pT2NOMX  Stage_pT2pN0  \n",
              "0           True          False         False  \n",
              "1          False          False         False  \n",
              "2          False          False         False  \n",
              "3          False           True         False  \n",
              "4          False          False         False  \n",
              "\n",
              "[5 rows x 26 columns]"
            ]
          },
          "metadata": {},
          "output_type": "display_data"
        },
        {
          "data": {
            "text/html": [
              "<div>\n",
              "<style scoped>\n",
              "    .dataframe tbody tr th:only-of-type {\n",
              "        vertical-align: middle;\n",
              "    }\n",
              "\n",
              "    .dataframe tbody tr th {\n",
              "        vertical-align: top;\n",
              "    }\n",
              "\n",
              "    .dataframe thead th {\n",
              "        text-align: right;\n",
              "    }\n",
              "</style>\n",
              "<table border=\"1\" class=\"dataframe\">\n",
              "  <thead>\n",
              "    <tr style=\"text-align: right;\">\n",
              "      <th></th>\n",
              "      <th>Patient ID</th>\n",
              "      <th>Survival time (days)</th>\n",
              "      <th>Event (death: 1, alive: 0)</th>\n",
              "      <th>Tumor size (cm)</th>\n",
              "      <th>Grade</th>\n",
              "      <th>Age</th>\n",
              "      <th>Pack per year</th>\n",
              "      <th>batch</th>\n",
              "      <th>EGFR</th>\n",
              "      <th>KRAS</th>\n",
              "      <th>...</th>\n",
              "      <th>Stage (TNM 8th edition)_IVA</th>\n",
              "      <th>Stage (TNM 8th edition)_Recurrence</th>\n",
              "      <th>Sex_Male</th>\n",
              "      <th>Type.Adjuvant_Chemorad</th>\n",
              "      <th>Type.Adjuvant_No_Adjuvant_Therapy</th>\n",
              "      <th>Type.Adjuvant_XRT</th>\n",
              "      <th>EGFR_status_Wild-type</th>\n",
              "      <th>KRAS_status_Wild-type</th>\n",
              "      <th>Cigarette_Former</th>\n",
              "      <th>Cigarette_Never</th>\n",
              "    </tr>\n",
              "  </thead>\n",
              "  <tbody>\n",
              "    <tr>\n",
              "      <th>0</th>\n",
              "      <td>P109342</td>\n",
              "      <td>2329</td>\n",
              "      <td>1</td>\n",
              "      <td>2.6</td>\n",
              "      <td>3</td>\n",
              "      <td>67</td>\n",
              "      <td>50.0</td>\n",
              "      <td>1</td>\n",
              "      <td>Unknown</td>\n",
              "      <td>Unknown</td>\n",
              "      <td>...</td>\n",
              "      <td>False</td>\n",
              "      <td>False</td>\n",
              "      <td>True</td>\n",
              "      <td>False</td>\n",
              "      <td>True</td>\n",
              "      <td>False</td>\n",
              "      <td>False</td>\n",
              "      <td>False</td>\n",
              "      <td>True</td>\n",
              "      <td>False</td>\n",
              "    </tr>\n",
              "    <tr>\n",
              "      <th>1</th>\n",
              "      <td>P124450</td>\n",
              "      <td>2532</td>\n",
              "      <td>0</td>\n",
              "      <td>3.5</td>\n",
              "      <td>3</td>\n",
              "      <td>68</td>\n",
              "      <td>52.5</td>\n",
              "      <td>1</td>\n",
              "      <td>Negative</td>\n",
              "      <td>Negative</td>\n",
              "      <td>...</td>\n",
              "      <td>False</td>\n",
              "      <td>False</td>\n",
              "      <td>False</td>\n",
              "      <td>False</td>\n",
              "      <td>True</td>\n",
              "      <td>False</td>\n",
              "      <td>True</td>\n",
              "      <td>True</td>\n",
              "      <td>True</td>\n",
              "      <td>False</td>\n",
              "    </tr>\n",
              "    <tr>\n",
              "      <th>2</th>\n",
              "      <td>P131833</td>\n",
              "      <td>2271</td>\n",
              "      <td>0</td>\n",
              "      <td>2.0</td>\n",
              "      <td>2</td>\n",
              "      <td>80</td>\n",
              "      <td>0.0</td>\n",
              "      <td>1</td>\n",
              "      <td>Negative</td>\n",
              "      <td>Negative</td>\n",
              "      <td>...</td>\n",
              "      <td>False</td>\n",
              "      <td>False</td>\n",
              "      <td>False</td>\n",
              "      <td>False</td>\n",
              "      <td>True</td>\n",
              "      <td>False</td>\n",
              "      <td>True</td>\n",
              "      <td>True</td>\n",
              "      <td>False</td>\n",
              "      <td>True</td>\n",
              "    </tr>\n",
              "    <tr>\n",
              "      <th>3</th>\n",
              "      <td>P131888</td>\n",
              "      <td>2193</td>\n",
              "      <td>0</td>\n",
              "      <td>3.0</td>\n",
              "      <td>2</td>\n",
              "      <td>63</td>\n",
              "      <td>47.0</td>\n",
              "      <td>1</td>\n",
              "      <td>Negative</td>\n",
              "      <td>G12C</td>\n",
              "      <td>...</td>\n",
              "      <td>False</td>\n",
              "      <td>False</td>\n",
              "      <td>True</td>\n",
              "      <td>False</td>\n",
              "      <td>True</td>\n",
              "      <td>False</td>\n",
              "      <td>True</td>\n",
              "      <td>False</td>\n",
              "      <td>True</td>\n",
              "      <td>False</td>\n",
              "    </tr>\n",
              "    <tr>\n",
              "      <th>4</th>\n",
              "      <td>P131946</td>\n",
              "      <td>2387</td>\n",
              "      <td>0</td>\n",
              "      <td>4.0</td>\n",
              "      <td>2</td>\n",
              "      <td>88</td>\n",
              "      <td>0.0</td>\n",
              "      <td>1</td>\n",
              "      <td>Negative</td>\n",
              "      <td>Negative</td>\n",
              "      <td>...</td>\n",
              "      <td>False</td>\n",
              "      <td>False</td>\n",
              "      <td>False</td>\n",
              "      <td>False</td>\n",
              "      <td>True</td>\n",
              "      <td>False</td>\n",
              "      <td>True</td>\n",
              "      <td>True</td>\n",
              "      <td>False</td>\n",
              "      <td>True</td>\n",
              "    </tr>\n",
              "  </tbody>\n",
              "</table>\n",
              "<p>5 rows × 26 columns</p>\n",
              "</div>"
            ],
            "text/plain": [
              "  Patient ID  Survival time (days)  Event (death: 1, alive: 0)  \\\n",
              "0    P109342                  2329                           1   \n",
              "1    P124450                  2532                           0   \n",
              "2    P131833                  2271                           0   \n",
              "3    P131888                  2193                           0   \n",
              "4    P131946                  2387                           0   \n",
              "\n",
              "   Tumor size (cm)  Grade  Age  Pack per year  batch      EGFR      KRAS  ...  \\\n",
              "0              2.6      3   67           50.0      1   Unknown   Unknown  ...   \n",
              "1              3.5      3   68           52.5      1  Negative  Negative  ...   \n",
              "2              2.0      2   80            0.0      1  Negative  Negative  ...   \n",
              "3              3.0      2   63           47.0      1  Negative      G12C  ...   \n",
              "4              4.0      2   88            0.0      1  Negative  Negative  ...   \n",
              "\n",
              "   Stage (TNM 8th edition)_IVA  Stage (TNM 8th edition)_Recurrence  Sex_Male  \\\n",
              "0                        False                               False      True   \n",
              "1                        False                               False     False   \n",
              "2                        False                               False     False   \n",
              "3                        False                               False      True   \n",
              "4                        False                               False     False   \n",
              "\n",
              "   Type.Adjuvant_Chemorad  Type.Adjuvant_No_Adjuvant_Therapy  \\\n",
              "0                   False                               True   \n",
              "1                   False                               True   \n",
              "2                   False                               True   \n",
              "3                   False                               True   \n",
              "4                   False                               True   \n",
              "\n",
              "   Type.Adjuvant_XRT  EGFR_status_Wild-type  KRAS_status_Wild-type  \\\n",
              "0              False                  False                  False   \n",
              "1              False                   True                   True   \n",
              "2              False                   True                   True   \n",
              "3              False                   True                  False   \n",
              "4              False                   True                   True   \n",
              "\n",
              "   Cigarette_Former  Cigarette_Never  \n",
              "0              True            False  \n",
              "1              True            False  \n",
              "2             False             True  \n",
              "3              True            False  \n",
              "4             False             True  \n",
              "\n",
              "[5 rows x 26 columns]"
            ]
          },
          "metadata": {},
          "output_type": "display_data"
        }
      ],
      "source": [
        "# 1. Load libraries\n",
        "import pandas as pd\n",
        "import numpy as np\n",
        "from sklearn.model_selection import train_test_split\n",
        "from sklearn.linear_model import LogisticRegression\n",
        "from sklearn.linear_model import LinearRegression\n",
        "from sklearn.metrics import accuracy_score, confusion_matrix, roc_auc_score, roc_curve\n",
        "import matplotlib.pyplot as plt\n",
        "import seaborn as sns\n",
        "import plotly.express as px\n",
        "\n",
        "# 2. Load cleaned datasets\n",
        "discovery = pd.read_csv(\"data/cleaned/discovery_clean.csv\")\n",
        "validation = pd.read_csv(\"data/cleaned/validation_clean.csv\")\n",
        "\n",
        "# 3. Preview\n",
        "print(\"Discovery cohort shape:\", discovery.shape)\n",
        "print(\"Validation cohort shape:\", validation.shape)\n",
        "display(discovery.head())\n",
        "display(validation.head())\n"
      ]
    },
    {
      "cell_type": "markdown",
      "metadata": {},
      "source": [
        "### Data Checks\n",
        "\n",
        "🔹 Discovery Cohort\n",
        "* Contains columns like Event, Time, sex_M, race_B, Stage_T1N0, etc.\n",
        "* Already binary-encoded (e.g., sex_M, race_B, Stage_...), and therefore suitable for regression or classification.\n",
        "\n",
        "🔹 Validation Cohort\n",
        "* Cleaned and labeled (e.g., Survival time (days), Event, KRAS, EGFR, Grade, Age, etc.).\n",
        "* Categorical variables like KRAS are in readable form (Negative, G12C, Unknown, etc.).\n",
        "\n",
        "Some engineered features already exist (Sex_Male, Stage (TNM 8th edition)_IVA, etc.)."
      ]
    },
    {
      "cell_type": "markdown",
      "metadata": {
        "id": "ZY3l0-AxO93d"
      },
      "source": [
        "---"
      ]
    },
    {
      "cell_type": "markdown",
      "metadata": {
        "id": "uFQo3ycuO-v6"
      },
      "source": [
        "# Section 2"
      ]
    },
    {
      "cell_type": "markdown",
      "metadata": {},
      "source": [
        "# Correlation Matrix (Numerical Variables)"
      ]
    },
    {
      "cell_type": "markdown",
      "metadata": {},
      "source": [
        "A correlation heatmap created using the validation conhort, focusing on continuous variables such as:\n",
        "* Survival time (days)\n",
        "* Tumor size (cm)\n",
        "* Age\n",
        "* Pack per year\n",
        "Categorical and one-hot-encoded features were excluded at this point to keep the matrix readable and meaningful."
      ]
    },
    {
      "cell_type": "code",
      "execution_count": 7,
      "metadata": {},
      "outputs": [
        {
          "data": {
            "image/png": "[encoded data removed]",
            "text/plain": [
              "<Figure size 800x600 with 2 Axes>"
            ]
          },
          "metadata": {},
          "output_type": "display_data"
        }
      ],
      "source": [
        "import numpy as np\n",
        "import seaborn as sns\n",
        "import matplotlib.pyplot as plt\n",
        "\n",
        "# Select numeric columns\n",
        "numeric_cols = ['Survival time (days)', 'Tumor size (cm)', 'Age', 'Pack per year']\n",
        "corr = validation[numeric_cols].corr()\n",
        "\n",
        "# Create mask for upper triangle *excluding* the diagonal\n",
        "mask = np.triu(np.ones_like(corr, dtype=bool), k=1)\n",
        "\n",
        "# Plot heatmap\n",
        "plt.figure(figsize=(8, 6))\n",
        "sns.heatmap(corr, mask=mask, annot=True, cmap='coolwarm', fmt=\".2f\", square=True, linewidths=0.5)\n",
        "plt.title('Correlation Matrix (Validation Cohort)')\n",
        "plt.show()\n",
        "\n"
      ]
    },
    {
      "cell_type": "markdown",
      "metadata": {},
      "source": [
        "The correlation heatmap above reveals the linear relationships between key continuous variables in the validation cohort. As shown, all correlations are relatively weak (absolute values < 0.20), indicating no strong linear relationships among the features. For example, tumor size and survival time are weakly negatively correlated (r ≈ -0.15), suggesting that larger tumors may be associated with shorter survival, although the effect is minimal. These weak correlations suggest low collinearity among features, which is favorable for subsequent modeling."
      ]
    },
    {
      "cell_type": "markdown",
      "metadata": {},
      "source": [
        "---"
      ]
    },
    {
      "cell_type": "markdown",
      "metadata": {},
      "source": [
        "# Section 3"
      ]
    },
    {
      "cell_type": "markdown",
      "metadata": {},
      "source": [
        "# Perform Hypothesis Testing (t-Test or ANOVA)"
      ]
    },
    {
      "cell_type": "markdown",
      "metadata": {},
      "source": [
        "To assess whether survival times significantly differ between tumour stage groups, a one-way ANOVA test was performed. This test compares the means of survival time across the simplified stage categories (Early vs Late) to determine if the observed differences are statistically significant."
      ]
    },
    {
      "cell_type": "code",
      "execution_count": null,
      "metadata": {},
      "outputs": [],
      "source": [
        "# Create the simplified stage column again\n",
        "def simplify_stage(stage):\n",
        "    if pd.isna(stage):\n",
        "        return 'Unknown'\n",
        "    elif 'IV' in str(stage):\n",
        "        return 'Late'\n",
        "    elif 'I' in str(stage) or 'II' in str(stage):\n",
        "        return 'Early'\n",
        "    else:\n",
        "        return 'Unknown'\n",
        "\n",
        "validation['Simplified_Stage'] = validation['Stage (TNM 8th edition)'].apply(simplify_stage)\n"
      ]
    },
    {
      "cell_type": "code",
      "execution_count": null,
      "metadata": {},
      "outputs": [],
      "source": [
        "from scipy.stats import f_oneway\n",
        "\n",
        "# Filter out unknown stage values if still present\n",
        "filtered = validation[validation['Simplified_Stage'] != 'Unknown']\n",
        "\n",
        "# Get survival times for each group\n",
        "early = filtered[filtered['Simplified_Stage'] == 'Early']['Survival time (days)']\n",
        "late = filtered[filtered['Simplified_Stage'] == 'Late']['Survival time (days)']\n",
        "\n",
        "# Perform one-way ANOVA\n",
        "f_stat, p_val = f_oneway(early, late)\n",
        "\n",
        "print(f\"F-statistic: {f_stat:.2f}, p-value: {p_val:.4f}\")\n"
      ]
    },
    {
      "cell_type": "markdown",
      "metadata": {},
      "source": [
        "---"
      ]
    },
    {
      "cell_type": "markdown",
      "metadata": {},
      "source": [
        "# Section 4"
      ]
    },
    {
      "cell_type": "markdown",
      "metadata": {},
      "source": [
        "# Section 4 content"
      ]
    },
    {
      "cell_type": "code",
      "execution_count": null,
      "metadata": {},
      "outputs": [],
      "source": []
    },
    {
      "cell_type": "markdown",
      "metadata": {},
      "source": [
        "---"
      ]
    },
    {
      "cell_type": "markdown",
      "metadata": {},
      "source": [
        "NOTE"
      ]
    },
    {
      "cell_type": "markdown",
      "metadata": {},
      "source": [
        "* You may add as many sections as you want, as long as it supports your project workflow.\n",
        "* All notebook's cells should be run top-down (you can't create a dynamic wherein a given point you need to go back to a previous cell to execute some task, like go back to a previous cell and refresh a variable content)"
      ]
    },
    {
      "cell_type": "markdown",
      "metadata": {},
      "source": [
        "---"
      ]
    },
    {
      "cell_type": "markdown",
      "metadata": {
        "id": "ltNetd085qHf"
      },
      "source": [
        "# Push files to Repo"
      ]
    },
    {
      "cell_type": "markdown",
      "metadata": {},
      "source": [
        "* In cases where you don't need to push files to Repo, you may replace this section with \"Conclusions and Next Steps\" and state your conclusions and next steps."
      ]
    },
    {
      "cell_type": "code",
      "execution_count": null,
      "metadata": {
        "id": "aKlnIozA4eQO",
        "outputId": "fd09bc1f-adb1-4511-f6ce-492a6af570c0"
      },
      "outputs": [],
      "source": [
        "import os\n",
        "try:\n",
        "  # create your folder here\n",
        "  # os.makedirs(name='')\n",
        "except Exception as e:\n",
        "  print(e)\n"
      ]
    }
  ],
  "metadata": {
    "accelerator": "GPU",
    "colab": {
      "name": "Data Practitioner Jupyter Notebook.ipynb",
      "provenance": [],
      "toc_visible": true
    },
    "kernelspec": {
      "display_name": ".venv (3.12.8)",
      "language": "python",
      "name": "python3"
    },
    "language_info": {
      "codemirror_mode": {
        "name": "ipython",
        "version": 3
      },
      "file_extension": ".py",
      "mimetype": "text/x-python",
      "name": "python",
      "nbconvert_exporter": "python",
      "pygments_lexer": "ipython3",
      "version": "3.12.8"
    },
    "orig_nbformat": 2
  },
  "nbformat": 4,
  "nbformat_minor": 2
}
