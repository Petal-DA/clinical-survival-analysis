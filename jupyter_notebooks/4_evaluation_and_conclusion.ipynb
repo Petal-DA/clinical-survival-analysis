{
  "cells": [
    {
      "cell_type": "markdown",
      "metadata": {
        "id": "0aStgWSO0E0E"
      },
      "source": [
        "# **EVALUATION AND CONCLUSION**"
      ]
    },
    {
      "cell_type": "markdown",
      "metadata": {
        "id": "1eLEkw5O0ECa"
      },
      "source": [
        "## Objectives\n",
        "\n",
        "* Evaluate the outcomes of the modelling phase.\n",
        "* Summarise key findings from the exploratory analysis and predictive models.\n",
        "* Reflect on the limitations of the analysis and opportunities for future improvement.\n",
        "* Present the final interactive Tableau dashboard, guided by the original wireframe.\n",
        "\n",
        "## Inputs\n",
        "\n",
        "* Finalised cleaned datasets:  \n",
        "  - `discovery_clean.csv`  \n",
        "  - `validation_clean.csv`  \n",
        "* Outputs from Notebook 3 (modelling results, feature importance plots).\n",
        "* Dashboard wireframe (`images/clinical_survival_wireframe.png`).\n",
        "\n",
        "## Outputs\n",
        "\n",
        "* Consolidated summary of findings from Notebooks 1–3.\n",
        "* Interpretation of modelling outcomes in context.\n",
        "* Link to Tableau Public dashboard containing interactive visualisations.\n",
        "\n",
        "## Additional Comments\n",
        "\n",
        "* This notebook serves as a narrative “wrap-up” for the project, ensuring all work is presented in an accessible format for both technical and non-technical audiences.\n",
        "* The wireframe created during the planning phase is used here as a reference to ensure that the final Tableau dashboard delivers the intended insights.\n",
        "* The Tableau dashboard complements Python-based analysis by providing interactive and shareable visualisations.\n"
      ]
    },
    {
      "cell_type": "markdown",
      "metadata": {
        "id": "9uWZXH9LwoQg"
      },
      "source": [
        "---"
      ]
    },
    {
      "cell_type": "markdown",
      "metadata": {
        "id": "cqP-UeN-z3i2"
      },
      "source": [
        "# Change working directory"
      ]
    },
    {
      "cell_type": "markdown",
      "metadata": {},
      "source": [
        "* We are assuming you will store the notebooks in a subfolder, therefore when running the notebook in the editor, you will need to change the working directory"
      ]
    },
    {
      "cell_type": "markdown",
      "metadata": {
        "id": "aOGIGS-uz3i2"
      },
      "source": [
        "We need to change the working directory from its current folder to its parent folder\n",
        "* We access the current directory with os.getcwd()"
      ]
    },
    {
      "cell_type": "code",
      "execution_count": 1,
      "metadata": {
        "id": "wZfF_j-Bz3i4",
        "outputId": "66943449-1436-4c3d-85c7-b85f9f78349b"
      },
      "outputs": [
        {
          "data": {
            "text/plain": [
              "'c:\\\\Users\\\\petal\\\\Downloads\\\\CI-DBC\\\\vscode-projects\\\\clinical-survival-analysis\\\\jupyter_notebooks'"
            ]
          },
          "execution_count": 1,
          "metadata": {},
          "output_type": "execute_result"
        }
      ],
      "source": [
        "import os\n",
        "current_dir = os.getcwd()\n",
        "current_dir"
      ]
    },
    {
      "cell_type": "markdown",
      "metadata": {
        "id": "9MWW8E7lz3i7"
      },
      "source": [
        "We want to make the parent of the current directory the new current directory\n",
        "* os.path.dirname() gets the parent directory\n",
        "* os.chir() defines the new current directory"
      ]
    },
    {
      "cell_type": "code",
      "execution_count": 2,
      "metadata": {
        "id": "TwHsQRWjz3i9",
        "outputId": "86849db3-cd2f-4cc5-ebb8-2d0caafa1a2c"
      },
      "outputs": [
        {
          "name": "stdout",
          "output_type": "stream",
          "text": [
            "You set a new current directory\n"
          ]
        }
      ],
      "source": [
        "os.chdir(os.path.dirname(current_dir))\n",
        "print(\"You set a new current directory\")"
      ]
    },
    {
      "cell_type": "markdown",
      "metadata": {
        "id": "M_xPk_Ijz3i-"
      },
      "source": [
        "Confirm the new current directory"
      ]
    },
    {
      "cell_type": "code",
      "execution_count": 3,
      "metadata": {
        "id": "vz3S-_kjz3jA",
        "outputId": "00b79ae4-75d0-4a96-d193-ac9ef9847ea2"
      },
      "outputs": [
        {
          "data": {
            "text/plain": [
              "'c:\\\\Users\\\\petal\\\\Downloads\\\\CI-DBC\\\\vscode-projects\\\\clinical-survival-analysis'"
            ]
          },
          "execution_count": 3,
          "metadata": {},
          "output_type": "execute_result"
        }
      ],
      "source": [
        "current_dir = os.getcwd()\n",
        "current_dir"
      ]
    },
    {
      "cell_type": "markdown",
      "metadata": {
        "id": "-mavJ8DibrcQ"
      },
      "source": [
        "# Section 1"
      ]
    },
    {
      "cell_type": "markdown",
      "metadata": {},
      "source": [
        "# Summary of Key Findings\n",
        "\n",
        "**Exploratory Analysis (Notebook 2)**  \n",
        "* Survival times varied widely across patients, with simplified staging (Early vs Advanced) revealing a clear trend toward shorter survival in advanced stages.  \n",
        "* KRAS mutation status was simplified for interpretability. Patients with mutations showed trends toward poorer outcomes, although differences were not statistically significant in the validation cohort.  \n",
        "* Weak correlations (< 0.20) among continuous variables indicated minimal multicollinearity issues, supporting their use in modelling.\n",
        "\n",
        "**Hypothesis Testing (Notebook 3)**  \n",
        "* ANOVA confirmed a significant difference in survival time between early and advanced stages (p = 0.0167).  \n",
        "* Kaplan–Meier survival analysis suggested lower survival probabilities in KRAS-mutated patients, but the log-rank test (p = 0.0917) indicated this was not statistically significant.  \n",
        "* These results suggest that stage remains a stronger determinant of survival than KRAS mutation status in this dataset.\n",
        "\n",
        "**Predictive Modelling (Notebook 3)**  \n",
        "* A full logistic regression model with multiple staging variables failed to converge due to multicollinearity and sparse data in advanced stages.  \n",
        "* A reduced model including **Stage IIIA**, **KRAS wild-type status**, **Sex (Male)**, and **Age** provided interpretable results without convergence issues.  \n",
        "* Stage IIIA emerged as the strongest predictor of mortality (OR ≈ 3.56, p = 0.0614), showing borderline significance.  \n",
        "* KRAS wild-type status suggested a protective trend (OR ≈ 0.45) but was not statistically significant.  \n",
        "* Sex had a wide confidence interval and was not statistically significant, indicating uncertainty about its effect. \n",
        "* Age had an odds ratio very close to 1 with a narrow confidence interval, suggesting little to no influence on mortality in this cohort.\n",
        "\n",
        "**Overall Insights**  \n",
        "* Disease stage is the most consistent predictor of mortality risk in this dataset.  \n",
        "* KRAS mutation status shows clinically plausible trends but requires a larger cohort for robust statistical confirmation.  \n",
        "* The limited sample size reduces statistical power, making findings exploratory rather than definitive.\n"
      ]
    },
    {
      "cell_type": "markdown",
      "metadata": {
        "id": "ZY3l0-AxO93d"
      },
      "source": [
        "---"
      ]
    },
    {
      "cell_type": "markdown",
      "metadata": {
        "id": "uFQo3ycuO-v6"
      },
      "source": [
        "# Section 2"
      ]
    },
    {
      "cell_type": "markdown",
      "metadata": {},
      "source": [
        "# Limitations and Future Work\n",
        "\n",
        "## Limitations\n",
        "This project analyzed a relatively small dataset (125 patients total, with 95 in the validation cohort), which limits statistical power and the ability to detect smaller effects.\n",
        "Key constraints included:\n",
        "### Sample Size and Statistical Power\n",
        "* Limited sample size increases the risk of overfitting and reduces the ability to detect subtle associations.\n",
        "### Sparse Representation in Advanced Disease Stages\n",
        "* Some staging categories were underrepresented, contributing to wide confidence intervals in model estimates.\n",
        "### Data Source Transparency\n",
        "* The Kaggle dataset did not specify whether it was based on real or simulated records, limiting certainty about its generalizability to real-world populations.\n",
        "### Missing or Unknown Values\n",
        "* Certain variables (e.g., mutation status) contained missing data, potentially biasing estimates.\n",
        "\n",
        "All analyses and models should therefore be interpreted as exploratory and hypothesis-generating, rather than definitive clinical evidence.\n",
        "\n",
        "## Future Work\n",
        "To strengthen findings and extend the project:\n",
        "### Validation in Larger Cohorts\n",
        "* Replicate analyses in larger, multi-center datasets to improve statistical power and generalizability.\n",
        "### Expanded Feature Set\n",
        "* Include additional clinical, demographic, and genomic variables to refine predictive models.\n",
        "### Advanced Modeling Techniques\n",
        "* Explore penalized regression, random forests, or survival analysis methods (e.g., Cox proportional hazards) to improve robustness.\n",
        "### Dashboard Enhancements\n",
        "* Integrate interactive filtering and more granular drill-downs in Tableau for greater user engagement.\n",
        "\n",
        "As a next step, these exploratory findings and predictive models are translated into an interactive Tableau dashboard, enabling stakeholders to explore the data, filter by key variables, and visually compare survival outcomes across patient subgroups."
      ]
    },
    {
      "cell_type": "markdown",
      "metadata": {},
      "source": [
        "---"
      ]
    },
    {
      "cell_type": "markdown",
      "metadata": {},
      "source": [
        "# Section 3"
      ]
    },
    {
      "cell_type": "markdown",
      "metadata": {},
      "source": [
        "# Tableau Dashboard\n",
        "\n",
        "**Wireframe Reference**  \n",
        "The planned design for the Tableau dashboard, shown below, served as the blueprint for the final interactive visualisations:  \n",
        "![Clinical Survival Analysis Wireframe](images/clinical_survival_wireframe.png)  \n",
        "\n",
        "**Live Dashboard Link**  \n",
        "The interactive dashboard for this project is available on Tableau Public: [View Dashboard](INSERT-YOUR-LINK-HERE)"
      ]
    },
    {
      "cell_type": "markdown",
      "metadata": {},
      "source": [
        "---"
      ]
    },
    {
      "cell_type": "markdown",
      "metadata": {},
      "source": [
        "# Section 4"
      ]
    },
    {
      "cell_type": "markdown",
      "metadata": {},
      "source": [
        "# Conclusion\n",
        "\n",
        "* (Here you would conclude by tying the findings back to the original business requirements, briefly noting how the deliverables address them.)*"
      ]
    },
    {
      "cell_type": "markdown",
      "metadata": {},
      "source": [
        "* You may add as many sections as you want, as long as it supports your project workflow.\n",
        "* All notebook's cells should be run top-down (you can't create a dynamic wherein a given point you need to go back to a previous cell to execute some task, like go back to a previous cell and refresh a variable content)"
      ]
    },
    {
      "cell_type": "markdown",
      "metadata": {},
      "source": [
        "---"
      ]
    },
    {
      "cell_type": "markdown",
      "metadata": {},
      "source": [
        "* In cases where you don't need to push files to Repo, you may replace this section with \"Conclusions and Next Steps\" and state your conclusions and next steps."
      ]
    }
  ],
  "metadata": {
    "accelerator": "GPU",
    "colab": {
      "name": "Data Practitioner Jupyter Notebook.ipynb",
      "provenance": [],
      "toc_visible": true
    },
    "kernelspec": {
      "display_name": ".venv (3.12.8)",
      "language": "python",
      "name": "python3"
    },
    "language_info": {
      "codemirror_mode": {
        "name": "ipython",
        "version": 3
      },
      "file_extension": ".py",
      "mimetype": "text/x-python",
      "name": "python",
      "nbconvert_exporter": "python",
      "pygments_lexer": "ipython3",
      "version": "3.12.8"
    },
    "orig_nbformat": 2
  },
  "nbformat": 4,
  "nbformat_minor": 2
}
