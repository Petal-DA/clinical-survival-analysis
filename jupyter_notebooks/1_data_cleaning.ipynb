{
  "cells": [
    {
      "cell_type": "markdown",
      "metadata": {
        "id": "0aStgWSO0E0E"
      },
      "source": [
        "# **DATA CLEANING AND ENCODING**"
      ]
    },
    {
      "cell_type": "markdown",
      "metadata": {
        "id": "1eLEkw5O0ECa"
      },
      "source": [
        "## Objectives\n",
        "\n",
        "- Clean and preprocess the discovery and validation clinical cohorts  \n",
        "- Handle duplicates, missing values, and clinically relevant categorical data  \n",
        "- Encode categorical variables for further analysis and modeling\n",
        "\n",
        "## Inputs\n",
        "\n",
        "- `data/clinical_data_discovery_cohort.csv`  \n",
        "- `data/clinical_data_validation_cohort.xlsx`\n",
        "\n",
        "## Outputs\n",
        "\n",
        "- Cleaned and encoded datasets saved to `/data/cleaned/`  \n",
        "- Ready for exploratory data analysis (Notebook 2)\n",
        "\n",
        "## Additional Comments\n",
        "\n",
        "* NA\n",
        "\n"
      ]
    },
    {
      "cell_type": "markdown",
      "metadata": {
        "id": "9uWZXH9LwoQg"
      },
      "source": [
        "---"
      ]
    },
    {
      "cell_type": "markdown",
      "metadata": {
        "id": "cqP-UeN-z3i2"
      },
      "source": [
        "# Change working directory"
      ]
    },
    {
      "cell_type": "markdown",
      "metadata": {
        "id": "aOGIGS-uz3i2"
      },
      "source": [
        "Working directory changed from its current folder to its parent folder\n",
        "* We access the current directory with os.getcwd()"
      ]
    },
    {
      "cell_type": "code",
      "execution_count": 1,
      "metadata": {
        "id": "wZfF_j-Bz3i4",
        "outputId": "66943449-1436-4c3d-85c7-b85f9f78349b"
      },
      "outputs": [
        {
          "data": {
            "text/plain": [
              "'c:\\\\Users\\\\petal\\\\Downloads\\\\CI-DBC\\\\vscode-projects\\\\clinical-survival-analysis\\\\jupyter_notebooks'"
            ]
          },
          "execution_count": 1,
          "metadata": {},
          "output_type": "execute_result"
        }
      ],
      "source": [
        "import os\n",
        "current_dir = os.getcwd()\n",
        "current_dir"
      ]
    },
    {
      "cell_type": "markdown",
      "metadata": {
        "id": "9MWW8E7lz3i7"
      },
      "source": [
        "We want to make the parent of the current directory the new current directory\n",
        "* os.path.dirname() gets the parent directory\n",
        "* os.chir() defines the new current directory"
      ]
    },
    {
      "cell_type": "code",
      "execution_count": 2,
      "metadata": {
        "id": "TwHsQRWjz3i9",
        "outputId": "86849db3-cd2f-4cc5-ebb8-2d0caafa1a2c"
      },
      "outputs": [
        {
          "name": "stdout",
          "output_type": "stream",
          "text": [
            "You set a new current directory\n"
          ]
        }
      ],
      "source": [
        "os.chdir(os.path.dirname(current_dir))\n",
        "print(\"You set a new current directory\")"
      ]
    },
    {
      "cell_type": "markdown",
      "metadata": {
        "id": "M_xPk_Ijz3i-"
      },
      "source": [
        "Confirm the new current directory"
      ]
    },
    {
      "cell_type": "code",
      "execution_count": 3,
      "metadata": {
        "id": "vz3S-_kjz3jA",
        "outputId": "00b79ae4-75d0-4a96-d193-ac9ef9847ea2"
      },
      "outputs": [
        {
          "data": {
            "text/plain": [
              "'c:\\\\Users\\\\petal\\\\Downloads\\\\CI-DBC\\\\vscode-projects\\\\clinical-survival-analysis'"
            ]
          },
          "execution_count": 3,
          "metadata": {},
          "output_type": "execute_result"
        }
      ],
      "source": [
        "current_dir = os.getcwd()\n",
        "current_dir"
      ]
    },
    {
      "cell_type": "markdown",
      "metadata": {},
      "source": [
        "# Section 1"
      ]
    },
    {
      "cell_type": "markdown",
      "metadata": {},
      "source": [
        "# Load and Quick Check"
      ]
    },
    {
      "cell_type": "code",
      "execution_count": 4,
      "metadata": {},
      "outputs": [
        {
          "name": "stdout",
          "output_type": "stream",
          "text": [
            "Discovery shape: (30, 10)\n",
            "Validation shape: (95, 14)\n"
          ]
        }
      ],
      "source": [
        "import pandas as pd\n",
        "import numpy as np\n",
        "\n",
        "# Load data\n",
        "discovery = pd.read_csv(\"data/clinical_data_discovery_cohort.csv\")\n",
        "validation = pd.read_excel(\"data/clinical_data_validation_cohort.xlsx\")\n",
        "\n",
        "print(\"Discovery shape:\", discovery.shape)\n",
        "print(\"Validation shape:\", validation.shape)\n"
      ]
    },
    {
      "cell_type": "markdown",
      "metadata": {},
      "source": [
        "# Handle Duplicates"
      ]
    },
    {
      "cell_type": "code",
      "execution_count": 5,
      "metadata": {},
      "outputs": [
        {
          "name": "stdout",
          "output_type": "stream",
          "text": [
            "Discovery duplicates: 0\n",
            "Validation duplicates: 0\n"
          ]
        }
      ],
      "source": [
        "print(\"Discovery duplicates:\", discovery.duplicated().sum())\n",
        "print(\"Validation duplicates:\", validation.duplicated().sum())\n",
        "\n",
        "# Drop if any duplicates found\n",
        "discovery.drop_duplicates(inplace=True)\n",
        "validation.drop_duplicates(inplace=True)\n"
      ]
    },
    {
      "cell_type": "markdown",
      "metadata": {},
      "source": [
        "# Handle Missing / Special Cases"
      ]
    },
    {
      "cell_type": "code",
      "execution_count": 6,
      "metadata": {},
      "outputs": [
        {
          "name": "stdout",
          "output_type": "stream",
          "text": [
            "Remaining missing values per column:\n",
            "Patient ID                    0\n",
            "Survival time (days)          0\n",
            "Event (death: 1, alive: 0)    0\n",
            "Tumor size (cm)               0\n",
            "Grade                         0\n",
            "Stage (TNM 8th edition)       0\n",
            "Age                           0\n",
            "Sex                           0\n",
            "Cigarette                     0\n",
            "Pack per year                 0\n",
            "Type.Adjuvant                 0\n",
            "batch                         0\n",
            "EGFR                          0\n",
            "KRAS                          0\n",
            "dtype: int64\n"
          ]
        }
      ],
      "source": [
        "# Clinical note: 'Type.Adjuvant' NaN may indicate NO adjuvant therapy\n",
        "validation['Type.Adjuvant'] = validation['Type.Adjuvant'].fillna(\"No_Adjuvant_Therapy\")\n",
        "\n",
        "# Optional: fill other missing categorical columns with 'Unknown' or keep NaN if truly unknown\n",
        "validation['EGFR'] = validation['EGFR'].fillna(\"Unknown\")\n",
        "validation['KRAS'] = validation['KRAS'].fillna(\"Unknown\")\n",
        "\n",
        "# Confirm missing values after handling\n",
        "print(\"Remaining missing values per column:\")\n",
        "print(validation.isnull().sum())\n"
      ]
    },
    {
      "cell_type": "markdown",
      "metadata": {},
      "source": [
        "> **Clinical Note:**  \n",
        "> The `Type.Adjuvant` column contains many NaN entries.  \n",
        "> In oncology, absence of adjuvant therapy may be clinically valid (early-stage cancer, complete resection, or patient preference).  \n",
        "> These were encoded as `\"No_Adjuvant_Therapy\"` to preserve clinical meaning rather than treating them as missing.\n"
      ]
    },
    {
      "cell_type": "markdown",
      "metadata": {
        "id": "ZY3l0-AxO93d"
      },
      "source": [
        "---"
      ]
    },
    {
      "cell_type": "markdown",
      "metadata": {},
      "source": [
        "# Section 2"
      ]
    },
    {
      "cell_type": "markdown",
      "metadata": {},
      "source": [
        "# Convert Data Types"
      ]
    },
    {
      "cell_type": "code",
      "execution_count": 7,
      "metadata": {},
      "outputs": [],
      "source": [
        "# Convert date columns in discovery cohort\n",
        "date_cols = ['Specimen date', 'Date of Death', 'Date of Last Follow Up']\n",
        "for col in date_cols:\n",
        "    discovery[col] = pd.to_datetime(discovery[col], errors='coerce')\n",
        "\n",
        "# Convert numeric columns in validation cohort\n",
        "validation['Survival time (days)'] = pd.to_numeric(validation['Survival time (days)'], errors='coerce')\n"
      ]
    },
    {
      "cell_type": "markdown",
      "metadata": {},
      "source": [
        "# Encode Categorical Variables for Modeling"
      ]
    },
    {
      "cell_type": "code",
      "execution_count": 8,
      "metadata": {},
      "outputs": [
        {
          "name": "stdout",
          "output_type": "stream",
          "text": [
            "Encoding complete. Cleaned datasets saved to /data/cleaned/\n"
          ]
        }
      ],
      "source": [
        "\n",
        "# 1️ Create simplified mutation status columns for KRAS and EGFR\n",
        "validation['KRAS_status'] = validation['KRAS'].apply(\n",
        "    lambda x: 'Wild-type' if x == 'Negative'\n",
        "              else ('Mutated' if pd.notnull(x) else 'Unknown')\n",
        ")\n",
        "\n",
        "validation['EGFR_status'] = validation['EGFR'].apply(\n",
        "    lambda x: 'Wild-type' if x == 'Negative'\n",
        "              else ('Mutated' if pd.notnull(x) else 'Unknown')\n",
        ")\n",
        "\n",
        "# 2️ Define categorical columns for encoding\n",
        "categorical_cols_disc = ['sex', 'race', 'Stage']\n",
        "categorical_cols_val = [\n",
        "    'Stage (TNM 8th edition)',\n",
        "    'Sex',\n",
        "    'Type.Adjuvant',\n",
        "    'EGFR_status',   # Simplified for non-clinical clarity\n",
        "    'KRAS_status',   # Simplified for non-clinical clarity\n",
        "    'Cigarette'\n",
        "]\n",
        "\n",
        "# 3️ Encode with pandas.get_dummies for ML readiness\n",
        "disc_encoded = pd.get_dummies(discovery, columns=categorical_cols_disc, drop_first=True)\n",
        "val_encoded = pd.get_dummies(validation, columns=categorical_cols_val, drop_first=True)\n",
        "\n",
        "# 4️ Save to cleaned folder\n",
        "disc_encoded.to_csv(\"data/cleaned/discovery_clean.csv\", index=False)\n",
        "val_encoded.to_csv(\"data/cleaned/validation_clean.csv\", index=False)\n",
        "\n",
        "print(\"Encoding complete. Cleaned datasets saved to /data/cleaned/\")\n",
        "\n"
      ]
    },
    {
      "cell_type": "markdown",
      "metadata": {},
      "source": [
        "### Observations\n",
        "- No duplicates detected to be removed\n",
        "- `Type.Adjuvant` NaNs converted to `\"No_Adjuvant_Therapy\"` for clinical integrity\n",
        "- EGFR and KRAS missing values replaced with `\"Unknown\"`\n",
        "- Dates converted to datetime\n",
        "- Cleaned and encoded datasets saved to `/data/cleaned/`\n",
        "- Ready for exploratory analysis in Notebook 2\n"
      ]
    },
    {
      "cell_type": "markdown",
      "metadata": {},
      "source": [
        "---"
      ]
    },
    {
      "cell_type": "markdown",
      "metadata": {
        "id": "ltNetd085qHf"
      },
      "source": [
        "# Next Steps"
      ]
    },
    {
      "cell_type": "markdown",
      "metadata": {},
      "source": [
        "* Further exploratory analysis in Notebook 2"
      ]
    }
  ],
  "metadata": {
    "accelerator": "GPU",
    "colab": {
      "name": "Data Practitioner Jupyter Notebook.ipynb",
      "provenance": [],
      "toc_visible": true
    },
    "kernelspec": {
      "display_name": ".venv (3.12.8)",
      "language": "python",
      "name": "python3"
    },
    "language_info": {
      "codemirror_mode": {
        "name": "ipython",
        "version": 3
      },
      "file_extension": ".py",
      "mimetype": "text/x-python",
      "name": "python",
      "nbconvert_exporter": "python",
      "pygments_lexer": "ipython3",
      "version": "3.12.8"
    },
    "orig_nbformat": 2
  },
  "nbformat": 4,
  "nbformat_minor": 2
}
